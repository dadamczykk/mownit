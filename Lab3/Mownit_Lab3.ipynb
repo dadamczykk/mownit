{
 "cells": [
  {
   "attachments": {},
   "cell_type": "markdown",
   "metadata": {},
   "source": [
    "# Język R\n",
    "## Postawowe informacje\n",
    "Język programowania oraz implementujący go system R jest środowiskiem do statystycznej analizy danych. Umożliwia pracę interaktywną i skryptową.\n",
    " \n",
    "Instalacja na Ubuntu:\n",
    "\n",
    "```apt-get install r-base```\n",
    "\n",
    "Jak dodać kernel R do Jupitera:\n",
    "\n",
    "https://datatofish.com/r-tutorials/\n",
    "\n",
    "Linki:\n",
    " - Strona główna projektu R: http://www.r-project.org/\n",
    " - Quick R: http://www.statmethods.net/\n",
    " - RStudio: https://www.rstudio.com/\n",
    " - R for Data Science: https://r4ds.had.co.nz/\n",
    " - R Packages (zaawansowana): https://r-pkgs.org/\n",
    " - ggplot2: https://ggplot2-book.org/\n",
    "\n",
    "## Interaktywna praca z systemem\n",
    "\n",
    "Jest kilka możliwości:\n",
    "\n",
    " - Uruchamiamy RStudio, które zawiera zintegrowane środowisko do analizy danych w języku R\n",
    " - Można też uruchomić konsolę R bezpośrednio poleceniem R\n",
    " - W Jupyter tworzymy nowy notatnik z kernelem R"
   ]
  },
  {
   "cell_type": "markdown",
   "metadata": {},
   "source": [
    "### Instalacja pakietów"
   ]
  },
  {
   "cell_type": "markdown",
   "metadata": {},
   "source": [
    "`tidyverse` to zbiór kilku użytecznych pakietów, m.in. `dplyr` i `ggplot`. Więcej na https://www.tidyverse.org/packages/\n",
    "\n",
    "Na  https://jupyter.lab.ii.agh.edu.pl/ pakiet jest już zainstalowany."
   ]
  },
  {
   "cell_type": "code",
   "execution_count": null,
   "metadata": {},
   "outputs": [
    {
     "ename": "",
     "evalue": "",
     "output_type": "error",
     "traceback": [
      "\u001b[1;31mFailed to start the Kernel. \n",
      "\u001b[1;31munknown option --slave\n",
      "\u001b[1;31musage: c:\\Users\\Domin\\anaconda3\\python.exe [option] ... [-c cmd | -m mod | file | -] [arg] ...\n",
      "\u001b[1;31mTry `python -h' for more information. \n",
      "\u001b[1;31mView Jupyter <a href='command:jupyter.viewOutput'>log</a> for further details."
     ]
    }
   ],
   "source": [
    "# install.packages('tidyverse')\n",
    "#albo dla Anacondy anaconda.org/r/r-tidyverse\n",
    "#w terminalu conda install -c r r-tidyverse "
   ]
  },
  {
   "cell_type": "code",
   "execution_count": 2,
   "metadata": {},
   "outputs": [
    {
     "name": "stderr",
     "output_type": "stream",
     "text": [
      "Registered S3 methods overwritten by 'ggplot2':\n",
      "  method         from \n",
      "  [.quosures     rlang\n",
      "  c.quosures     rlang\n",
      "  print.quosures rlang\n",
      "Registered S3 method overwritten by 'rvest':\n",
      "  method            from\n",
      "  read_xml.response xml2\n",
      "-- Attaching packages --------------------------------------- tidyverse 1.2.1 --\n",
      "<U+221A> ggplot2 3.1.1       <U+221A> purrr   0.3.2  \n",
      "<U+221A> tibble  2.1.1       <U+221A> dplyr   0.8.0.1\n",
      "<U+221A> tidyr   0.8.3       <U+221A> stringr 1.4.0  \n",
      "<U+221A> readr   1.3.1       <U+221A> forcats 0.4.0  \n",
      "-- Conflicts ------------------------------------------ tidyverse_conflicts() --\n",
      "x dplyr::filter() masks stats::filter()\n",
      "x dplyr::lag()    masks stats::lag()\n"
     ]
    }
   ],
   "source": [
    "# pokazuje też ewentualne \"przykrycia\"\n",
    "library(\"tidyverse\")"
   ]
  },
  {
   "cell_type": "markdown",
   "metadata": {},
   "source": [
    "### R"
   ]
  },
  {
   "cell_type": "markdown",
   "metadata": {},
   "source": [
    "Wbudowana pomoc:"
   ]
  },
  {
   "cell_type": "code",
   "execution_count": 3,
   "metadata": {},
   "outputs": [],
   "source": [
    "help()"
   ]
  },
  {
   "cell_type": "code",
   "execution_count": 4,
   "metadata": {},
   "outputs": [],
   "source": [
    "help(plot)"
   ]
  },
  {
   "cell_type": "markdown",
   "metadata": {},
   "source": [
    "bieżący katalog"
   ]
  },
  {
   "cell_type": "code",
   "execution_count": 5,
   "metadata": {},
   "outputs": [
    {
     "data": {
      "text/html": [
       "'C:/Users/kzaja/mownit23/mownit'"
      ],
      "text/latex": [
       "'C:/Users/kzaja/mownit23/mownit'"
      ],
      "text/markdown": [
       "'C:/Users/kzaja/mownit23/mownit'"
      ],
      "text/plain": [
       "[1] \"C:/Users/kzaja/mownit23/mownit\""
      ]
     },
     "metadata": {},
     "output_type": "display_data"
    }
   ],
   "source": [
    "getwd()"
   ]
  },
  {
   "cell_type": "markdown",
   "metadata": {},
   "source": [
    "zmiana katalogu bieżącego\n",
    "```\n",
    "setwd(\"~\")\n",
    "```"
   ]
  },
  {
   "cell_type": "markdown",
   "metadata": {},
   "source": [
    "#### Proste obliczenia"
   ]
  },
  {
   "cell_type": "code",
   "execution_count": 6,
   "metadata": {},
   "outputs": [
    {
     "data": {
      "text/html": [
       "4"
      ],
      "text/latex": [
       "4"
      ],
      "text/markdown": [
       "4"
      ],
      "text/plain": [
       "[1] 4"
      ]
     },
     "metadata": {},
     "output_type": "display_data"
    }
   ],
   "source": [
    "2+2"
   ]
  },
  {
   "cell_type": "markdown",
   "metadata": {},
   "source": [
    "Przypisanie \n",
    "\n",
    "więcej o rodzajach przypisania: http://stat.ethz.ch/R-manual/R-patched/library/base/html/assignOps.html"
   ]
  },
  {
   "cell_type": "code",
   "execution_count": 7,
   "metadata": {},
   "outputs": [],
   "source": [
    "a <- 2 # najczęściej stosowane"
   ]
  },
  {
   "cell_type": "code",
   "execution_count": 8,
   "metadata": {},
   "outputs": [],
   "source": [
    "a = 2"
   ]
  },
  {
   "cell_type": "markdown",
   "metadata": {},
   "source": [
    "Działanie:"
   ]
  },
  {
   "cell_type": "code",
   "execution_count": 9,
   "metadata": {},
   "outputs": [
    {
     "data": {
      "text/html": [
       "4"
      ],
      "text/latex": [
       "4"
      ],
      "text/markdown": [
       "4"
      ],
      "text/plain": [
       "[1] 4"
      ]
     },
     "metadata": {},
     "output_type": "display_data"
    }
   ],
   "source": [
    "a * 2"
   ]
  },
  {
   "cell_type": "markdown",
   "metadata": {},
   "source": [
    "#### Wektory\n",
    "\n",
    "Tworzenie wektorów - funkcja `c()` "
   ]
  },
  {
   "cell_type": "code",
   "execution_count": 10,
   "metadata": {},
   "outputs": [
    {
     "data": {
      "text/html": [
       "<ol class=list-inline>\n",
       "\t<li>2</li>\n",
       "\t<li>4</li>\n",
       "\t<li>6</li>\n",
       "\t<li>8</li>\n",
       "</ol>\n"
      ],
      "text/latex": [
       "\\begin{enumerate*}\n",
       "\\item 2\n",
       "\\item 4\n",
       "\\item 6\n",
       "\\item 8\n",
       "\\end{enumerate*}\n"
      ],
      "text/markdown": [
       "1. 2\n",
       "2. 4\n",
       "3. 6\n",
       "4. 8\n",
       "\n",
       "\n"
      ],
      "text/plain": [
       "[1] 2 4 6 8"
      ]
     },
     "metadata": {},
     "output_type": "display_data"
    }
   ],
   "source": [
    "x <- c(1,2,3,4)\n",
    "z <- x*2\n",
    "z"
   ]
  },
  {
   "cell_type": "code",
   "execution_count": 11,
   "metadata": {},
   "outputs": [
    {
     "data": {
      "text/html": [
       "<ol class=list-inline>\n",
       "\t<li>3</li>\n",
       "\t<li>6</li>\n",
       "\t<li>9</li>\n",
       "\t<li>12</li>\n",
       "</ol>\n"
      ],
      "text/latex": [
       "\\begin{enumerate*}\n",
       "\\item 3\n",
       "\\item 6\n",
       "\\item 9\n",
       "\\item 12\n",
       "\\end{enumerate*}\n"
      ],
      "text/markdown": [
       "1. 3\n",
       "2. 6\n",
       "3. 9\n",
       "4. 12\n",
       "\n",
       "\n"
      ],
      "text/plain": [
       "[1]  3  6  9 12"
      ]
     },
     "metadata": {},
     "output_type": "display_data"
    }
   ],
   "source": [
    "y <- 2*(1:4)\n",
    "x+y"
   ]
  },
  {
   "cell_type": "markdown",
   "metadata": {},
   "source": [
    "Funkcje"
   ]
  },
  {
   "cell_type": "code",
   "execution_count": 12,
   "metadata": {},
   "outputs": [
    {
     "data": {
      "text/html": [
       "<ol class=list-inline>\n",
       "\t<li>1</li>\n",
       "\t<li>3</li>\n",
       "\t<li>5</li>\n",
       "\t<li>7</li>\n",
       "\t<li>9</li>\n",
       "</ol>\n"
      ],
      "text/latex": [
       "\\begin{enumerate*}\n",
       "\\item 1\n",
       "\\item 3\n",
       "\\item 5\n",
       "\\item 7\n",
       "\\item 9\n",
       "\\end{enumerate*}\n"
      ],
      "text/markdown": [
       "1. 1\n",
       "2. 3\n",
       "3. 5\n",
       "4. 7\n",
       "5. 9\n",
       "\n",
       "\n"
      ],
      "text/plain": [
       "[1] 1 3 5 7 9"
      ]
     },
     "metadata": {},
     "output_type": "display_data"
    }
   ],
   "source": [
    "seq(1, 10, 2) "
   ]
  },
  {
   "cell_type": "code",
   "execution_count": 13,
   "metadata": {},
   "outputs": [],
   "source": [
    "x <- seq(1, 10)"
   ]
  },
  {
   "cell_type": "code",
   "execution_count": 14,
   "metadata": {},
   "outputs": [
    {
     "data": {
      "text/html": [
       "55"
      ],
      "text/latex": [
       "55"
      ],
      "text/markdown": [
       "55"
      ],
      "text/plain": [
       "[1] 55"
      ]
     },
     "metadata": {},
     "output_type": "display_data"
    }
   ],
   "source": [
    "sum(x)"
   ]
  },
  {
   "cell_type": "code",
   "execution_count": 15,
   "metadata": {},
   "outputs": [
    {
     "data": {
      "text/html": [
       "<ol class=list-inline>\n",
       "\t<li>1</li>\n",
       "\t<li>1.4142135623731</li>\n",
       "\t<li>1.73205080756888</li>\n",
       "\t<li>2</li>\n",
       "\t<li>2.23606797749979</li>\n",
       "\t<li>2.44948974278318</li>\n",
       "\t<li>2.64575131106459</li>\n",
       "\t<li>2.82842712474619</li>\n",
       "\t<li>3</li>\n",
       "\t<li>3.16227766016838</li>\n",
       "</ol>\n"
      ],
      "text/latex": [
       "\\begin{enumerate*}\n",
       "\\item 1\n",
       "\\item 1.4142135623731\n",
       "\\item 1.73205080756888\n",
       "\\item 2\n",
       "\\item 2.23606797749979\n",
       "\\item 2.44948974278318\n",
       "\\item 2.64575131106459\n",
       "\\item 2.82842712474619\n",
       "\\item 3\n",
       "\\item 3.16227766016838\n",
       "\\end{enumerate*}\n"
      ],
      "text/markdown": [
       "1. 1\n",
       "2. 1.4142135623731\n",
       "3. 1.73205080756888\n",
       "4. 2\n",
       "5. 2.23606797749979\n",
       "6. 2.44948974278318\n",
       "7. 2.64575131106459\n",
       "8. 2.82842712474619\n",
       "9. 3\n",
       "10. 3.16227766016838\n",
       "\n",
       "\n"
      ],
      "text/plain": [
       " [1] 1.000000 1.414214 1.732051 2.000000 2.236068 2.449490 2.645751 2.828427\n",
       " [9] 3.000000 3.162278"
      ]
     },
     "metadata": {},
     "output_type": "display_data"
    }
   ],
   "source": [
    "sqrt(x)"
   ]
  },
  {
   "cell_type": "markdown",
   "metadata": {},
   "source": [
    "## Import i przekształcanie danych"
   ]
  },
  {
   "cell_type": "markdown",
   "metadata": {},
   "source": [
    "R umożliwia wczytywanie danych z baz danych i plików w różnych formatach.\n",
    "\n",
    "Przykład: import z pliku CSV.\n",
    "\n",
    "Do importu służy funkcja `read.csv`\n",
    "\n",
    "Przykładowy plik: [data1.txt](https://www.icsr.agh.edu.pl/~malawski/dydakt/mownit/R/data1.txt)\n",
    "\n",
    "Kolumny `t1` i `t2` zawierają wyniki \"pomiarów\" czasu dla 2 \"algorytmów\"."
   ]
  },
  {
   "cell_type": "code",
   "execution_count": 16,
   "metadata": {},
   "outputs": [],
   "source": [
    "results = read.csv(\"data1.txt\")"
   ]
  },
  {
   "cell_type": "markdown",
   "metadata": {},
   "source": [
    "Zaimportowane dane są w postaci tabeli (data frame)."
   ]
  },
  {
   "cell_type": "code",
   "execution_count": 17,
   "metadata": {},
   "outputs": [
    {
     "data": {
      "text/html": [
       "<table>\n",
       "<thead><tr><th scope=col>n</th><th scope=col>t1</th><th scope=col>t2</th></tr></thead>\n",
       "<tbody>\n",
       "\t<tr><td> 1  </td><td> 1.1</td><td> 2.3</td></tr>\n",
       "\t<tr><td> 2  </td><td> 2.0</td><td> 4.1</td></tr>\n",
       "\t<tr><td> 3  </td><td> 2.8</td><td> 6.0</td></tr>\n",
       "\t<tr><td> 4  </td><td> 4.2</td><td> 8.2</td></tr>\n",
       "\t<tr><td> 5  </td><td> 5.1</td><td> 9.9</td></tr>\n",
       "\t<tr><td> 6  </td><td> 5.9</td><td>12.1</td></tr>\n",
       "\t<tr><td> 7  </td><td> 6.7</td><td>14.1</td></tr>\n",
       "\t<tr><td> 8  </td><td> 8.0</td><td>15.9</td></tr>\n",
       "\t<tr><td> 9  </td><td> 9.1</td><td>18.1</td></tr>\n",
       "\t<tr><td>10  </td><td>10.1</td><td>19.9</td></tr>\n",
       "</tbody>\n",
       "</table>\n"
      ],
      "text/latex": [
       "\\begin{tabular}{r|lll}\n",
       " n & t1 & t2\\\\\n",
       "\\hline\n",
       "\t  1   &  1.1 &  2.3\\\\\n",
       "\t  2   &  2.0 &  4.1\\\\\n",
       "\t  3   &  2.8 &  6.0\\\\\n",
       "\t  4   &  4.2 &  8.2\\\\\n",
       "\t  5   &  5.1 &  9.9\\\\\n",
       "\t  6   &  5.9 & 12.1\\\\\n",
       "\t  7   &  6.7 & 14.1\\\\\n",
       "\t  8   &  8.0 & 15.9\\\\\n",
       "\t  9   &  9.1 & 18.1\\\\\n",
       "\t 10   & 10.1 & 19.9\\\\\n",
       "\\end{tabular}\n"
      ],
      "text/markdown": [
       "\n",
       "| n | t1 | t2 |\n",
       "|---|---|---|\n",
       "|  1   |  1.1 |  2.3 |\n",
       "|  2   |  2.0 |  4.1 |\n",
       "|  3   |  2.8 |  6.0 |\n",
       "|  4   |  4.2 |  8.2 |\n",
       "|  5   |  5.1 |  9.9 |\n",
       "|  6   |  5.9 | 12.1 |\n",
       "|  7   |  6.7 | 14.1 |\n",
       "|  8   |  8.0 | 15.9 |\n",
       "|  9   |  9.1 | 18.1 |\n",
       "| 10   | 10.1 | 19.9 |\n",
       "\n"
      ],
      "text/plain": [
       "   n  t1   t2  \n",
       "1   1  1.1  2.3\n",
       "2   2  2.0  4.1\n",
       "3   3  2.8  6.0\n",
       "4   4  4.2  8.2\n",
       "5   5  5.1  9.9\n",
       "6   6  5.9 12.1\n",
       "7   7  6.7 14.1\n",
       "8   8  8.0 15.9\n",
       "9   9  9.1 18.1\n",
       "10 10 10.1 19.9"
      ]
     },
     "metadata": {},
     "output_type": "display_data"
    }
   ],
   "source": [
    "results"
   ]
  },
  {
   "cell_type": "code",
   "execution_count": 18,
   "metadata": {},
   "outputs": [
    {
     "name": "stdout",
     "output_type": "stream",
     "text": [
      "    n   t1   t2\n",
      "1   1  1.1  2.3\n",
      "2   2  2.0  4.1\n",
      "3   3  2.8  6.0\n",
      "4   4  4.2  8.2\n",
      "5   5  5.1  9.9\n",
      "6   6  5.9 12.1\n",
      "7   7  6.7 14.1\n",
      "8   8  8.0 15.9\n",
      "9   9  9.1 18.1\n",
      "10 10 10.1 19.9\n"
     ]
    }
   ],
   "source": [
    "print(results)"
   ]
  },
  {
   "cell_type": "markdown",
   "metadata": {},
   "source": [
    "Pobranie kolumny (data frame):"
   ]
  },
  {
   "cell_type": "code",
   "execution_count": 19,
   "metadata": {},
   "outputs": [
    {
     "data": {
      "text/html": [
       "<table>\n",
       "<thead><tr><th scope=col>n</th></tr></thead>\n",
       "<tbody>\n",
       "\t<tr><td> 1</td></tr>\n",
       "\t<tr><td> 2</td></tr>\n",
       "\t<tr><td> 3</td></tr>\n",
       "\t<tr><td> 4</td></tr>\n",
       "\t<tr><td> 5</td></tr>\n",
       "\t<tr><td> 6</td></tr>\n",
       "\t<tr><td> 7</td></tr>\n",
       "\t<tr><td> 8</td></tr>\n",
       "\t<tr><td> 9</td></tr>\n",
       "\t<tr><td>10</td></tr>\n",
       "</tbody>\n",
       "</table>\n"
      ],
      "text/latex": [
       "\\begin{tabular}{r|l}\n",
       " n\\\\\n",
       "\\hline\n",
       "\t  1\\\\\n",
       "\t  2\\\\\n",
       "\t  3\\\\\n",
       "\t  4\\\\\n",
       "\t  5\\\\\n",
       "\t  6\\\\\n",
       "\t  7\\\\\n",
       "\t  8\\\\\n",
       "\t  9\\\\\n",
       "\t 10\\\\\n",
       "\\end{tabular}\n"
      ],
      "text/markdown": [
       "\n",
       "| n |\n",
       "|---|\n",
       "|  1 |\n",
       "|  2 |\n",
       "|  3 |\n",
       "|  4 |\n",
       "|  5 |\n",
       "|  6 |\n",
       "|  7 |\n",
       "|  8 |\n",
       "|  9 |\n",
       "| 10 |\n",
       "\n"
      ],
      "text/plain": [
       "   n \n",
       "1   1\n",
       "2   2\n",
       "3   3\n",
       "4   4\n",
       "5   5\n",
       "6   6\n",
       "7   7\n",
       "8   8\n",
       "9   9\n",
       "10 10"
      ]
     },
     "metadata": {},
     "output_type": "display_data"
    }
   ],
   "source": [
    "results[1]"
   ]
  },
  {
   "cell_type": "markdown",
   "metadata": {},
   "source": [
    "Pobranie kolumny jako wektor:"
   ]
  },
  {
   "cell_type": "code",
   "execution_count": 20,
   "metadata": {},
   "outputs": [
    {
     "data": {
      "text/html": [
       "<ol class=list-inline>\n",
       "\t<li>1</li>\n",
       "\t<li>2</li>\n",
       "\t<li>3</li>\n",
       "\t<li>4</li>\n",
       "\t<li>5</li>\n",
       "\t<li>6</li>\n",
       "\t<li>7</li>\n",
       "\t<li>8</li>\n",
       "\t<li>9</li>\n",
       "\t<li>10</li>\n",
       "</ol>\n"
      ],
      "text/latex": [
       "\\begin{enumerate*}\n",
       "\\item 1\n",
       "\\item 2\n",
       "\\item 3\n",
       "\\item 4\n",
       "\\item 5\n",
       "\\item 6\n",
       "\\item 7\n",
       "\\item 8\n",
       "\\item 9\n",
       "\\item 10\n",
       "\\end{enumerate*}\n"
      ],
      "text/markdown": [
       "1. 1\n",
       "2. 2\n",
       "3. 3\n",
       "4. 4\n",
       "5. 5\n",
       "6. 6\n",
       "7. 7\n",
       "8. 8\n",
       "9. 9\n",
       "10. 10\n",
       "\n",
       "\n"
      ],
      "text/plain": [
       " [1]  1  2  3  4  5  6  7  8  9 10"
      ]
     },
     "metadata": {},
     "output_type": "display_data"
    }
   ],
   "source": [
    "results[[1]]"
   ]
  },
  {
   "cell_type": "markdown",
   "metadata": {},
   "source": [
    "pobranie kolumny po nazwie:"
   ]
  },
  {
   "cell_type": "code",
   "execution_count": 21,
   "metadata": {},
   "outputs": [
    {
     "data": {
      "text/html": [
       "<table>\n",
       "<thead><tr><th scope=col>t1</th></tr></thead>\n",
       "<tbody>\n",
       "\t<tr><td> 1.1</td></tr>\n",
       "\t<tr><td> 2.0</td></tr>\n",
       "\t<tr><td> 2.8</td></tr>\n",
       "\t<tr><td> 4.2</td></tr>\n",
       "\t<tr><td> 5.1</td></tr>\n",
       "\t<tr><td> 5.9</td></tr>\n",
       "\t<tr><td> 6.7</td></tr>\n",
       "\t<tr><td> 8.0</td></tr>\n",
       "\t<tr><td> 9.1</td></tr>\n",
       "\t<tr><td>10.1</td></tr>\n",
       "</tbody>\n",
       "</table>\n"
      ],
      "text/latex": [
       "\\begin{tabular}{r|l}\n",
       " t1\\\\\n",
       "\\hline\n",
       "\t  1.1\\\\\n",
       "\t  2.0\\\\\n",
       "\t  2.8\\\\\n",
       "\t  4.2\\\\\n",
       "\t  5.1\\\\\n",
       "\t  5.9\\\\\n",
       "\t  6.7\\\\\n",
       "\t  8.0\\\\\n",
       "\t  9.1\\\\\n",
       "\t 10.1\\\\\n",
       "\\end{tabular}\n"
      ],
      "text/markdown": [
       "\n",
       "| t1 |\n",
       "|---|\n",
       "|  1.1 |\n",
       "|  2.0 |\n",
       "|  2.8 |\n",
       "|  4.2 |\n",
       "|  5.1 |\n",
       "|  5.9 |\n",
       "|  6.7 |\n",
       "|  8.0 |\n",
       "|  9.1 |\n",
       "| 10.1 |\n",
       "\n"
      ],
      "text/plain": [
       "   t1  \n",
       "1   1.1\n",
       "2   2.0\n",
       "3   2.8\n",
       "4   4.2\n",
       "5   5.1\n",
       "6   5.9\n",
       "7   6.7\n",
       "8   8.0\n",
       "9   9.1\n",
       "10 10.1"
      ]
     },
     "metadata": {},
     "output_type": "display_data"
    }
   ],
   "source": [
    "results[\"t1\"]"
   ]
  },
  {
   "cell_type": "markdown",
   "metadata": {},
   "source": [
    "Pobranie wiersza lub wierszy:"
   ]
  },
  {
   "cell_type": "code",
   "execution_count": 22,
   "metadata": {},
   "outputs": [
    {
     "data": {
      "text/html": [
       "<table>\n",
       "<thead><tr><th></th><th scope=col>n</th><th scope=col>t1</th><th scope=col>t2</th></tr></thead>\n",
       "<tbody>\n",
       "\t<tr><th scope=row>2</th><td>2  </td><td>2  </td><td>4.1</td></tr>\n",
       "</tbody>\n",
       "</table>\n"
      ],
      "text/latex": [
       "\\begin{tabular}{r|lll}\n",
       "  & n & t1 & t2\\\\\n",
       "\\hline\n",
       "\t2 & 2   & 2   & 4.1\\\\\n",
       "\\end{tabular}\n"
      ],
      "text/markdown": [
       "\n",
       "| <!--/--> | n | t1 | t2 |\n",
       "|---|---|---|---|\n",
       "| 2 | 2   | 2   | 4.1 |\n",
       "\n"
      ],
      "text/plain": [
       "  n t1 t2 \n",
       "2 2 2  4.1"
      ]
     },
     "metadata": {},
     "output_type": "display_data"
    }
   ],
   "source": [
    "results[2,] # drugi wiersz, wszystkie kolumny"
   ]
  },
  {
   "cell_type": "code",
   "execution_count": 23,
   "metadata": {},
   "outputs": [
    {
     "data": {
      "text/html": [
       "<table>\n",
       "<thead><tr><th></th><th scope=col>n</th><th scope=col>t1</th><th scope=col>t2</th></tr></thead>\n",
       "<tbody>\n",
       "\t<tr><th scope=row>2</th><td>2   </td><td>2.0 </td><td> 4.1</td></tr>\n",
       "\t<tr><th scope=row>4</th><td>4   </td><td>4.2 </td><td> 8.2</td></tr>\n",
       "\t<tr><th scope=row>6</th><td>6   </td><td>5.9 </td><td>12.1</td></tr>\n",
       "</tbody>\n",
       "</table>\n"
      ],
      "text/latex": [
       "\\begin{tabular}{r|lll}\n",
       "  & n & t1 & t2\\\\\n",
       "\\hline\n",
       "\t2 & 2    & 2.0  &  4.1\\\\\n",
       "\t4 & 4    & 4.2  &  8.2\\\\\n",
       "\t6 & 6    & 5.9  & 12.1\\\\\n",
       "\\end{tabular}\n"
      ],
      "text/markdown": [
       "\n",
       "| <!--/--> | n | t1 | t2 |\n",
       "|---|---|---|---|\n",
       "| 2 | 2    | 2.0  |  4.1 |\n",
       "| 4 | 4    | 4.2  |  8.2 |\n",
       "| 6 | 6    | 5.9  | 12.1 |\n",
       "\n"
      ],
      "text/plain": [
       "  n t1  t2  \n",
       "2 2 2.0  4.1\n",
       "4 4 4.2  8.2\n",
       "6 6 5.9 12.1"
      ]
     },
     "metadata": {},
     "output_type": "display_data"
    }
   ],
   "source": [
    "results[c(2,4,6),]"
   ]
  },
  {
   "cell_type": "markdown",
   "metadata": {},
   "source": [
    "`attach` (dodanie tabeli do kontekstu) pozwala na pojedyncze odwołania do kolumn (jako wektorów) bez odwoływania sie do calej tabeli:"
   ]
  },
  {
   "cell_type": "code",
   "execution_count": 29,
   "metadata": {},
   "outputs": [
    {
     "data": {
      "text/html": [
       "<ol class=list-inline>\n",
       "\t<li>1.1</li>\n",
       "\t<li>2</li>\n",
       "\t<li>2.8</li>\n",
       "\t<li>4.2</li>\n",
       "\t<li>5.1</li>\n",
       "\t<li>5.9</li>\n",
       "\t<li>6.7</li>\n",
       "\t<li>8</li>\n",
       "\t<li>9.1</li>\n",
       "\t<li>10.1</li>\n",
       "</ol>\n"
      ],
      "text/latex": [
       "\\begin{enumerate*}\n",
       "\\item 1.1\n",
       "\\item 2\n",
       "\\item 2.8\n",
       "\\item 4.2\n",
       "\\item 5.1\n",
       "\\item 5.9\n",
       "\\item 6.7\n",
       "\\item 8\n",
       "\\item 9.1\n",
       "\\item 10.1\n",
       "\\end{enumerate*}\n"
      ],
      "text/markdown": [
       "1. 1.1\n",
       "2. 2\n",
       "3. 2.8\n",
       "4. 4.2\n",
       "5. 5.1\n",
       "6. 5.9\n",
       "7. 6.7\n",
       "8. 8\n",
       "9. 9.1\n",
       "10. 10.1\n",
       "\n",
       "\n"
      ],
      "text/plain": [
       " [1]  1.1  2.0  2.8  4.2  5.1  5.9  6.7  8.0  9.1 10.1"
      ]
     },
     "metadata": {},
     "output_type": "display_data"
    }
   ],
   "source": [
    "attach(results)\n",
    "\n",
    "t1"
   ]
  },
  {
   "cell_type": "code",
   "execution_count": 25,
   "metadata": {},
   "outputs": [
    {
     "data": {
      "text/html": [
       "<ol class=list-inline>\n",
       "\t<li>2.3</li>\n",
       "\t<li>4.1</li>\n",
       "\t<li>6</li>\n",
       "\t<li>8.2</li>\n",
       "\t<li>9.9</li>\n",
       "\t<li>12.1</li>\n",
       "\t<li>14.1</li>\n",
       "\t<li>15.9</li>\n",
       "\t<li>18.1</li>\n",
       "\t<li>19.9</li>\n",
       "</ol>\n"
      ],
      "text/latex": [
       "\\begin{enumerate*}\n",
       "\\item 2.3\n",
       "\\item 4.1\n",
       "\\item 6\n",
       "\\item 8.2\n",
       "\\item 9.9\n",
       "\\item 12.1\n",
       "\\item 14.1\n",
       "\\item 15.9\n",
       "\\item 18.1\n",
       "\\item 19.9\n",
       "\\end{enumerate*}\n"
      ],
      "text/markdown": [
       "1. 2.3\n",
       "2. 4.1\n",
       "3. 6\n",
       "4. 8.2\n",
       "5. 9.9\n",
       "6. 12.1\n",
       "7. 14.1\n",
       "8. 15.9\n",
       "9. 18.1\n",
       "10. 19.9\n",
       "\n",
       "\n"
      ],
      "text/plain": [
       " [1]  2.3  4.1  6.0  8.2  9.9 12.1 14.1 15.9 18.1 19.9"
      ]
     },
     "metadata": {},
     "output_type": "display_data"
    }
   ],
   "source": [
    "t2"
   ]
  },
  {
   "cell_type": "code",
   "execution_count": 26,
   "metadata": {},
   "outputs": [
    {
     "data": {
      "text/html": [
       "<ol class=list-inline>\n",
       "\t<li>1</li>\n",
       "\t<li>2</li>\n",
       "\t<li>3</li>\n",
       "\t<li>4</li>\n",
       "\t<li>5</li>\n",
       "\t<li>6</li>\n",
       "\t<li>7</li>\n",
       "\t<li>8</li>\n",
       "\t<li>9</li>\n",
       "\t<li>10</li>\n",
       "</ol>\n"
      ],
      "text/latex": [
       "\\begin{enumerate*}\n",
       "\\item 1\n",
       "\\item 2\n",
       "\\item 3\n",
       "\\item 4\n",
       "\\item 5\n",
       "\\item 6\n",
       "\\item 7\n",
       "\\item 8\n",
       "\\item 9\n",
       "\\item 10\n",
       "\\end{enumerate*}\n"
      ],
      "text/markdown": [
       "1. 1\n",
       "2. 2\n",
       "3. 3\n",
       "4. 4\n",
       "5. 5\n",
       "6. 6\n",
       "7. 7\n",
       "8. 8\n",
       "9. 9\n",
       "10. 10\n",
       "\n",
       "\n"
      ],
      "text/plain": [
       " [1]  1  2  3  4  5  6  7  8  9 10"
      ]
     },
     "metadata": {},
     "output_type": "display_data"
    }
   ],
   "source": [
    "n"
   ]
  },
  {
   "cell_type": "code",
   "execution_count": 27,
   "metadata": {},
   "outputs": [],
   "source": [
    "detach(results)"
   ]
  },
  {
   "cell_type": "code",
   "execution_count": 28,
   "metadata": {},
   "outputs": [
    {
     "ename": "ERROR",
     "evalue": "Error in eval(expr, envir, enclos): nie znaleziono obiektu 't1'\n",
     "output_type": "error",
     "traceback": [
      "Error in eval(expr, envir, enclos): nie znaleziono obiektu 't1'\nTraceback:\n"
     ]
    }
   ],
   "source": [
    "# generuje blad \n",
    "t1"
   ]
  },
  {
   "cell_type": "markdown",
   "metadata": {},
   "source": [
    "### Wczytywanie w tidyverse"
   ]
  },
  {
   "cell_type": "markdown",
   "metadata": {},
   "source": [
    "W tidyverse dane wczytywane są do `tibble` - \"ulepszony\" data.frame"
   ]
  },
  {
   "cell_type": "code",
   "execution_count": 30,
   "metadata": {},
   "outputs": [
    {
     "name": "stderr",
     "output_type": "stream",
     "text": [
      "Parsed with column specification:\n",
      "cols(\n",
      "  n = col_double(),\n",
      "  t1 = col_double(),\n",
      "  t2 = col_double()\n",
      ")\n"
     ]
    }
   ],
   "source": [
    "# proszę zwrócić uwagę na _ zamiast .\n",
    "results2 = read_csv(\"data1.txt\")"
   ]
  },
  {
   "cell_type": "code",
   "execution_count": 31,
   "metadata": {},
   "outputs": [
    {
     "data": {
      "text/html": [
       "<table>\n",
       "<thead><tr><th scope=col>n</th><th scope=col>t1</th><th scope=col>t2</th></tr></thead>\n",
       "<tbody>\n",
       "\t<tr><td> 1  </td><td> 1.1</td><td> 2.3</td></tr>\n",
       "\t<tr><td> 2  </td><td> 2.0</td><td> 4.1</td></tr>\n",
       "\t<tr><td> 3  </td><td> 2.8</td><td> 6.0</td></tr>\n",
       "\t<tr><td> 4  </td><td> 4.2</td><td> 8.2</td></tr>\n",
       "\t<tr><td> 5  </td><td> 5.1</td><td> 9.9</td></tr>\n",
       "\t<tr><td> 6  </td><td> 5.9</td><td>12.1</td></tr>\n",
       "\t<tr><td> 7  </td><td> 6.7</td><td>14.1</td></tr>\n",
       "\t<tr><td> 8  </td><td> 8.0</td><td>15.9</td></tr>\n",
       "\t<tr><td> 9  </td><td> 9.1</td><td>18.1</td></tr>\n",
       "\t<tr><td>10  </td><td>10.1</td><td>19.9</td></tr>\n",
       "</tbody>\n",
       "</table>\n"
      ],
      "text/latex": [
       "\\begin{tabular}{r|lll}\n",
       " n & t1 & t2\\\\\n",
       "\\hline\n",
       "\t  1   &  1.1 &  2.3\\\\\n",
       "\t  2   &  2.0 &  4.1\\\\\n",
       "\t  3   &  2.8 &  6.0\\\\\n",
       "\t  4   &  4.2 &  8.2\\\\\n",
       "\t  5   &  5.1 &  9.9\\\\\n",
       "\t  6   &  5.9 & 12.1\\\\\n",
       "\t  7   &  6.7 & 14.1\\\\\n",
       "\t  8   &  8.0 & 15.9\\\\\n",
       "\t  9   &  9.1 & 18.1\\\\\n",
       "\t 10   & 10.1 & 19.9\\\\\n",
       "\\end{tabular}\n"
      ],
      "text/markdown": [
       "\n",
       "| n | t1 | t2 |\n",
       "|---|---|---|\n",
       "|  1   |  1.1 |  2.3 |\n",
       "|  2   |  2.0 |  4.1 |\n",
       "|  3   |  2.8 |  6.0 |\n",
       "|  4   |  4.2 |  8.2 |\n",
       "|  5   |  5.1 |  9.9 |\n",
       "|  6   |  5.9 | 12.1 |\n",
       "|  7   |  6.7 | 14.1 |\n",
       "|  8   |  8.0 | 15.9 |\n",
       "|  9   |  9.1 | 18.1 |\n",
       "| 10   | 10.1 | 19.9 |\n",
       "\n"
      ],
      "text/plain": [
       "   n  t1   t2  \n",
       "1   1  1.1  2.3\n",
       "2   2  2.0  4.1\n",
       "3   3  2.8  6.0\n",
       "4   4  4.2  8.2\n",
       "5   5  5.1  9.9\n",
       "6   6  5.9 12.1\n",
       "7   7  6.7 14.1\n",
       "8   8  8.0 15.9\n",
       "9   9  9.1 18.1\n",
       "10 10 10.1 19.9"
      ]
     },
     "metadata": {},
     "output_type": "display_data"
    }
   ],
   "source": [
    "results2\n",
    "# to samo co data.frame"
   ]
  },
  {
   "cell_type": "code",
   "execution_count": 32,
   "metadata": {},
   "outputs": [
    {
     "name": "stdout",
     "output_type": "stream",
     "text": [
      "# A tibble: 10 x 3\n",
      "       n    t1    t2\n",
      "   <dbl> <dbl> <dbl>\n",
      " 1     1   1.1   2.3\n",
      " 2     2   2     4.1\n",
      " 3     3   2.8   6  \n",
      " 4     4   4.2   8.2\n",
      " 5     5   5.1   9.9\n",
      " 6     6   5.9  12.1\n",
      " 7     7   6.7  14.1\n",
      " 8     8   8    15.9\n",
      " 9     9   9.1  18.1\n",
      "10    10  10.1  19.9\n"
     ]
    }
   ],
   "source": [
    "print(results2)\n",
    "# zawiera rozmiar i informacje o typach"
   ]
  },
  {
   "cell_type": "markdown",
   "metadata": {},
   "source": [
    "## Rysowanie wykresów"
   ]
  },
  {
   "cell_type": "code",
   "execution_count": 33,
   "metadata": {},
   "outputs": [
    {
     "data": {
      "text/html": [
       "<table>\n",
       "<thead><tr><th scope=col>n</th><th scope=col>t1</th><th scope=col>t2</th></tr></thead>\n",
       "<tbody>\n",
       "\t<tr><td> 1  </td><td> 1.1</td><td> 2.3</td></tr>\n",
       "\t<tr><td> 2  </td><td> 2.0</td><td> 4.1</td></tr>\n",
       "\t<tr><td> 3  </td><td> 2.8</td><td> 6.0</td></tr>\n",
       "\t<tr><td> 4  </td><td> 4.2</td><td> 8.2</td></tr>\n",
       "\t<tr><td> 5  </td><td> 5.1</td><td> 9.9</td></tr>\n",
       "\t<tr><td> 6  </td><td> 5.9</td><td>12.1</td></tr>\n",
       "\t<tr><td> 7  </td><td> 6.7</td><td>14.1</td></tr>\n",
       "\t<tr><td> 8  </td><td> 8.0</td><td>15.9</td></tr>\n",
       "\t<tr><td> 9  </td><td> 9.1</td><td>18.1</td></tr>\n",
       "\t<tr><td>10  </td><td>10.1</td><td>19.9</td></tr>\n",
       "</tbody>\n",
       "</table>\n"
      ],
      "text/latex": [
       "\\begin{tabular}{r|lll}\n",
       " n & t1 & t2\\\\\n",
       "\\hline\n",
       "\t  1   &  1.1 &  2.3\\\\\n",
       "\t  2   &  2.0 &  4.1\\\\\n",
       "\t  3   &  2.8 &  6.0\\\\\n",
       "\t  4   &  4.2 &  8.2\\\\\n",
       "\t  5   &  5.1 &  9.9\\\\\n",
       "\t  6   &  5.9 & 12.1\\\\\n",
       "\t  7   &  6.7 & 14.1\\\\\n",
       "\t  8   &  8.0 & 15.9\\\\\n",
       "\t  9   &  9.1 & 18.1\\\\\n",
       "\t 10   & 10.1 & 19.9\\\\\n",
       "\\end{tabular}\n"
      ],
      "text/markdown": [
       "\n",
       "| n | t1 | t2 |\n",
       "|---|---|---|\n",
       "|  1   |  1.1 |  2.3 |\n",
       "|  2   |  2.0 |  4.1 |\n",
       "|  3   |  2.8 |  6.0 |\n",
       "|  4   |  4.2 |  8.2 |\n",
       "|  5   |  5.1 |  9.9 |\n",
       "|  6   |  5.9 | 12.1 |\n",
       "|  7   |  6.7 | 14.1 |\n",
       "|  8   |  8.0 | 15.9 |\n",
       "|  9   |  9.1 | 18.1 |\n",
       "| 10   | 10.1 | 19.9 |\n",
       "\n"
      ],
      "text/plain": [
       "   n  t1   t2  \n",
       "1   1  1.1  2.3\n",
       "2   2  2.0  4.1\n",
       "3   3  2.8  6.0\n",
       "4   4  4.2  8.2\n",
       "5   5  5.1  9.9\n",
       "6   6  5.9 12.1\n",
       "7   7  6.7 14.1\n",
       "8   8  8.0 15.9\n",
       "9   9  9.1 18.1\n",
       "10 10 10.1 19.9"
      ]
     },
     "metadata": {},
     "output_type": "display_data"
    }
   ],
   "source": [
    "results"
   ]
  },
  {
   "cell_type": "code",
   "execution_count": 34,
   "metadata": {},
   "outputs": [
    {
     "data": {
      "image/png": "[encoded data removed]",
      "text/plain": [
       "plot without title"
      ]
     },
     "metadata": {},
     "output_type": "display_data"
    }
   ],
   "source": [
    "a <- ggplot(results, aes(x=n, y=t2)) + geom_point()\n",
    "a\n",
    "# nie używamy \"\" w aes!"
   ]
  },
  {
   "cell_type": "code",
   "execution_count": 35,
   "metadata": {},
   "outputs": [
    {
     "data": {
      "image/png": "[encoded data removed]",
      "text/plain": [
       "plot without title"
      ]
     },
     "metadata": {},
     "output_type": "display_data"
    }
   ],
   "source": [
    "a + geom_line()\n",
    "# nie podano nic do geom_line więc wykorzystano argumenty do ggplot(...)"
   ]
  },
  {
   "cell_type": "code",
   "execution_count": 36,
   "metadata": {},
   "outputs": [
    {
     "data": {
      "image/png": "[encoded data removed]",
      "text/plain": [
       "plot without title"
      ]
     },
     "metadata": {},
     "output_type": "display_data"
    }
   ],
   "source": [
    "last_plot() + geom_line(aes(x=n, y=t1))\n",
    "# tutaj podano inny aes, ale dalej odnosimy się do \"results\""
   ]
  },
  {
   "cell_type": "markdown",
   "metadata": {},
   "source": [
    "## Przykład analizy danych w czystym R"
   ]
  },
  {
   "cell_type": "markdown",
   "metadata": {},
   "source": [
    "Przetwarzanie danych w tabeli\n",
    "\n",
    "Dane w pliku [data2.txt](https://www.icsr.agh.edu.pl/~malawski/dydakt/mownit/R/data2.txt) mają postać tabeli faktów, w której wiersze są wynikami pomiarów. \n",
    "\n",
    "Przykładowo, zmierzono czas (time) dla różnych algorytmów (t1, t2).\n",
    "\n",
    "Kolumna `alg` jest typu `factor` - jest to typ wyliczeniowy w R."
   ]
  },
  {
   "cell_type": "code",
   "execution_count": 37,
   "metadata": {},
   "outputs": [
    {
     "data": {
      "text/html": [
       "<table>\n",
       "<thead><tr><th scope=col>n</th><th scope=col>alg</th><th scope=col>time</th><th scope=col>error</th></tr></thead>\n",
       "<tbody>\n",
       "\t<tr><td> 1          </td><td>t1          </td><td> 1.010572   </td><td> 0.010572148</td></tr>\n",
       "\t<tr><td> 2          </td><td>t1          </td><td> 1.981689   </td><td>-0.018310993</td></tr>\n",
       "\t<tr><td> 3          </td><td>t1          </td><td> 3.066268   </td><td> 0.066268043</td></tr>\n",
       "\t<tr><td> 4          </td><td>t1          </td><td> 4.060221   </td><td> 0.060220570</td></tr>\n",
       "\t<tr><td> 5          </td><td>t1          </td><td> 5.029502   </td><td> 0.029502051</td></tr>\n",
       "\t<tr><td> 6          </td><td>t1          </td><td> 6.045928   </td><td> 0.045927536</td></tr>\n",
       "\t<tr><td> 7          </td><td>t1          </td><td> 6.957461   </td><td>-0.042538559</td></tr>\n",
       "\t<tr><td> 8          </td><td>t1          </td><td> 8.009891   </td><td> 0.009891313</td></tr>\n",
       "\t<tr><td> 9          </td><td>t1          </td><td> 9.053959   </td><td> 0.053959370</td></tr>\n",
       "\t<tr><td>10          </td><td>t1          </td><td> 9.982560   </td><td>-0.017439984</td></tr>\n",
       "\t<tr><td> 1          </td><td>t2          </td><td> 1.997585   </td><td>-0.002414813</td></tr>\n",
       "\t<tr><td> 2          </td><td>t2          </td><td> 3.953772   </td><td>-0.046227795</td></tr>\n",
       "\t<tr><td> 3          </td><td>t2          </td><td> 5.978172   </td><td>-0.021827928</td></tr>\n",
       "\t<tr><td> 4          </td><td>t2          </td><td> 8.052453   </td><td> 0.052453117</td></tr>\n",
       "\t<tr><td> 5          </td><td>t2          </td><td>10.072778   </td><td> 0.072777961</td></tr>\n",
       "\t<tr><td> 6          </td><td>t2          </td><td>11.957002   </td><td>-0.042997938</td></tr>\n",
       "\t<tr><td> 7          </td><td>t2          </td><td>14.002079   </td><td> 0.002078900</td></tr>\n",
       "\t<tr><td> 8          </td><td>t2          </td><td>16.031059   </td><td> 0.031058822</td></tr>\n",
       "\t<tr><td> 9          </td><td>t2          </td><td>18.046717   </td><td> 0.046716672</td></tr>\n",
       "\t<tr><td>10          </td><td>t2          </td><td>20.046959   </td><td> 0.046959194</td></tr>\n",
       "\t<tr><td> 1          </td><td>t1          </td><td> 1.079367   </td><td> 0.079366812</td></tr>\n",
       "\t<tr><td> 2          </td><td>t1          </td><td> 2.034495   </td><td> 0.034494559</td></tr>\n",
       "\t<tr><td> 3          </td><td>t1          </td><td> 2.942990   </td><td>-0.057010017</td></tr>\n",
       "\t<tr><td> 4          </td><td>t1          </td><td> 3.936265   </td><td>-0.063734966</td></tr>\n",
       "\t<tr><td> 5          </td><td>t1          </td><td> 4.971931   </td><td>-0.028069105</td></tr>\n",
       "\t<tr><td> 6          </td><td>t1          </td><td> 5.935258   </td><td>-0.064741864</td></tr>\n",
       "\t<tr><td> 7          </td><td>t1          </td><td> 6.930239   </td><td>-0.069760726</td></tr>\n",
       "\t<tr><td> 8          </td><td>t1          </td><td> 8.088869   </td><td> 0.088868510</td></tr>\n",
       "\t<tr><td> 9          </td><td>t1          </td><td> 8.949670   </td><td>-0.050330255</td></tr>\n",
       "\t<tr><td>10          </td><td>t1          </td><td> 9.963969   </td><td>-0.036030556</td></tr>\n",
       "\t<tr><td>...</td><td>...</td><td>...</td><td>...</td></tr>\n",
       "\t<tr><td> 1          </td><td>t2          </td><td> 2.0298945  </td><td> 0.029894485</td></tr>\n",
       "\t<tr><td> 2          </td><td>t2          </td><td> 3.9258667  </td><td>-0.074133292</td></tr>\n",
       "\t<tr><td> 3          </td><td>t2          </td><td> 6.0798658  </td><td> 0.079865815</td></tr>\n",
       "\t<tr><td> 4          </td><td>t2          </td><td> 8.0427000  </td><td> 0.042699961</td></tr>\n",
       "\t<tr><td> 5          </td><td>t2          </td><td>10.0047110  </td><td> 0.004710953</td></tr>\n",
       "\t<tr><td> 6          </td><td>t2          </td><td>12.0451718  </td><td> 0.045171754</td></tr>\n",
       "\t<tr><td> 7          </td><td>t2          </td><td>14.0277883  </td><td> 0.027788304</td></tr>\n",
       "\t<tr><td> 8          </td><td>t2          </td><td>15.9948606  </td><td>-0.005139422</td></tr>\n",
       "\t<tr><td> 9          </td><td>t2          </td><td>17.9814433  </td><td>-0.018556727</td></tr>\n",
       "\t<tr><td>10          </td><td>t2          </td><td>20.0706583  </td><td> 0.070658276</td></tr>\n",
       "\t<tr><td> 1          </td><td>t1          </td><td> 0.9608387  </td><td>-0.039161259</td></tr>\n",
       "\t<tr><td> 2          </td><td>t1          </td><td> 2.0267897  </td><td> 0.026789747</td></tr>\n",
       "\t<tr><td> 3          </td><td>t1          </td><td> 2.9177290  </td><td>-0.082271013</td></tr>\n",
       "\t<tr><td> 4          </td><td>t1          </td><td> 3.9467534  </td><td>-0.053246569</td></tr>\n",
       "\t<tr><td> 5          </td><td>t1          </td><td> 5.0340156  </td><td> 0.034015561</td></tr>\n",
       "\t<tr><td> 6          </td><td>t1          </td><td> 6.0447867  </td><td> 0.044786676</td></tr>\n",
       "\t<tr><td> 7          </td><td>t1          </td><td> 6.9471870  </td><td>-0.052813046</td></tr>\n",
       "\t<tr><td> 8          </td><td>t1          </td><td> 8.0205163  </td><td> 0.020516265</td></tr>\n",
       "\t<tr><td> 9          </td><td>t1          </td><td> 8.9359922  </td><td>-0.064007769</td></tr>\n",
       "\t<tr><td>10          </td><td>t1          </td><td>10.0013729  </td><td> 0.001372936</td></tr>\n",
       "\t<tr><td> 1          </td><td>t2          </td><td> 1.9076066  </td><td>-0.092393352</td></tr>\n",
       "\t<tr><td> 2          </td><td>t2          </td><td> 3.9216544  </td><td>-0.078345629</td></tr>\n",
       "\t<tr><td> 3          </td><td>t2          </td><td> 5.9047371  </td><td>-0.095262873</td></tr>\n",
       "\t<tr><td> 4          </td><td>t2          </td><td> 7.9451692  </td><td>-0.054830831</td></tr>\n",
       "\t<tr><td> 5          </td><td>t2          </td><td>10.0706839  </td><td> 0.070683864</td></tr>\n",
       "\t<tr><td> 6          </td><td>t2          </td><td>11.9154638  </td><td>-0.084536184</td></tr>\n",
       "\t<tr><td> 7          </td><td>t2          </td><td>13.9948929  </td><td>-0.005107067</td></tr>\n",
       "\t<tr><td> 8          </td><td>t2          </td><td>15.9483586  </td><td>-0.051641405</td></tr>\n",
       "\t<tr><td> 9          </td><td>t2          </td><td>17.9686723  </td><td>-0.031327676</td></tr>\n",
       "\t<tr><td>10          </td><td>t2          </td><td>19.9371683  </td><td>-0.062831726</td></tr>\n",
       "</tbody>\n",
       "</table>\n"
      ],
      "text/latex": [
       "\\begin{tabular}{r|llll}\n",
       " n & alg & time & error\\\\\n",
       "\\hline\n",
       "\t  1           & t1           &  1.010572    &  0.010572148\\\\\n",
       "\t  2           & t1           &  1.981689    & -0.018310993\\\\\n",
       "\t  3           & t1           &  3.066268    &  0.066268043\\\\\n",
       "\t  4           & t1           &  4.060221    &  0.060220570\\\\\n",
       "\t  5           & t1           &  5.029502    &  0.029502051\\\\\n",
       "\t  6           & t1           &  6.045928    &  0.045927536\\\\\n",
       "\t  7           & t1           &  6.957461    & -0.042538559\\\\\n",
       "\t  8           & t1           &  8.009891    &  0.009891313\\\\\n",
       "\t  9           & t1           &  9.053959    &  0.053959370\\\\\n",
       "\t 10           & t1           &  9.982560    & -0.017439984\\\\\n",
       "\t  1           & t2           &  1.997585    & -0.002414813\\\\\n",
       "\t  2           & t2           &  3.953772    & -0.046227795\\\\\n",
       "\t  3           & t2           &  5.978172    & -0.021827928\\\\\n",
       "\t  4           & t2           &  8.052453    &  0.052453117\\\\\n",
       "\t  5           & t2           & 10.072778    &  0.072777961\\\\\n",
       "\t  6           & t2           & 11.957002    & -0.042997938\\\\\n",
       "\t  7           & t2           & 14.002079    &  0.002078900\\\\\n",
       "\t  8           & t2           & 16.031059    &  0.031058822\\\\\n",
       "\t  9           & t2           & 18.046717    &  0.046716672\\\\\n",
       "\t 10           & t2           & 20.046959    &  0.046959194\\\\\n",
       "\t  1           & t1           &  1.079367    &  0.079366812\\\\\n",
       "\t  2           & t1           &  2.034495    &  0.034494559\\\\\n",
       "\t  3           & t1           &  2.942990    & -0.057010017\\\\\n",
       "\t  4           & t1           &  3.936265    & -0.063734966\\\\\n",
       "\t  5           & t1           &  4.971931    & -0.028069105\\\\\n",
       "\t  6           & t1           &  5.935258    & -0.064741864\\\\\n",
       "\t  7           & t1           &  6.930239    & -0.069760726\\\\\n",
       "\t  8           & t1           &  8.088869    &  0.088868510\\\\\n",
       "\t  9           & t1           &  8.949670    & -0.050330255\\\\\n",
       "\t 10           & t1           &  9.963969    & -0.036030556\\\\\n",
       "\t ... & ... & ... & ...\\\\\n",
       "\t  1           & t2           &  2.0298945   &  0.029894485\\\\\n",
       "\t  2           & t2           &  3.9258667   & -0.074133292\\\\\n",
       "\t  3           & t2           &  6.0798658   &  0.079865815\\\\\n",
       "\t  4           & t2           &  8.0427000   &  0.042699961\\\\\n",
       "\t  5           & t2           & 10.0047110   &  0.004710953\\\\\n",
       "\t  6           & t2           & 12.0451718   &  0.045171754\\\\\n",
       "\t  7           & t2           & 14.0277883   &  0.027788304\\\\\n",
       "\t  8           & t2           & 15.9948606   & -0.005139422\\\\\n",
       "\t  9           & t2           & 17.9814433   & -0.018556727\\\\\n",
       "\t 10           & t2           & 20.0706583   &  0.070658276\\\\\n",
       "\t  1           & t1           &  0.9608387   & -0.039161259\\\\\n",
       "\t  2           & t1           &  2.0267897   &  0.026789747\\\\\n",
       "\t  3           & t1           &  2.9177290   & -0.082271013\\\\\n",
       "\t  4           & t1           &  3.9467534   & -0.053246569\\\\\n",
       "\t  5           & t1           &  5.0340156   &  0.034015561\\\\\n",
       "\t  6           & t1           &  6.0447867   &  0.044786676\\\\\n",
       "\t  7           & t1           &  6.9471870   & -0.052813046\\\\\n",
       "\t  8           & t1           &  8.0205163   &  0.020516265\\\\\n",
       "\t  9           & t1           &  8.9359922   & -0.064007769\\\\\n",
       "\t 10           & t1           & 10.0013729   &  0.001372936\\\\\n",
       "\t  1           & t2           &  1.9076066   & -0.092393352\\\\\n",
       "\t  2           & t2           &  3.9216544   & -0.078345629\\\\\n",
       "\t  3           & t2           &  5.9047371   & -0.095262873\\\\\n",
       "\t  4           & t2           &  7.9451692   & -0.054830831\\\\\n",
       "\t  5           & t2           & 10.0706839   &  0.070683864\\\\\n",
       "\t  6           & t2           & 11.9154638   & -0.084536184\\\\\n",
       "\t  7           & t2           & 13.9948929   & -0.005107067\\\\\n",
       "\t  8           & t2           & 15.9483586   & -0.051641405\\\\\n",
       "\t  9           & t2           & 17.9686723   & -0.031327676\\\\\n",
       "\t 10           & t2           & 19.9371683   & -0.062831726\\\\\n",
       "\\end{tabular}\n"
      ],
      "text/markdown": [
       "\n",
       "| n | alg | time | error |\n",
       "|---|---|---|---|\n",
       "|  1           | t1           |  1.010572    |  0.010572148 |\n",
       "|  2           | t1           |  1.981689    | -0.018310993 |\n",
       "|  3           | t1           |  3.066268    |  0.066268043 |\n",
       "|  4           | t1           |  4.060221    |  0.060220570 |\n",
       "|  5           | t1           |  5.029502    |  0.029502051 |\n",
       "|  6           | t1           |  6.045928    |  0.045927536 |\n",
       "|  7           | t1           |  6.957461    | -0.042538559 |\n",
       "|  8           | t1           |  8.009891    |  0.009891313 |\n",
       "|  9           | t1           |  9.053959    |  0.053959370 |\n",
       "| 10           | t1           |  9.982560    | -0.017439984 |\n",
       "|  1           | t2           |  1.997585    | -0.002414813 |\n",
       "|  2           | t2           |  3.953772    | -0.046227795 |\n",
       "|  3           | t2           |  5.978172    | -0.021827928 |\n",
       "|  4           | t2           |  8.052453    |  0.052453117 |\n",
       "|  5           | t2           | 10.072778    |  0.072777961 |\n",
       "|  6           | t2           | 11.957002    | -0.042997938 |\n",
       "|  7           | t2           | 14.002079    |  0.002078900 |\n",
       "|  8           | t2           | 16.031059    |  0.031058822 |\n",
       "|  9           | t2           | 18.046717    |  0.046716672 |\n",
       "| 10           | t2           | 20.046959    |  0.046959194 |\n",
       "|  1           | t1           |  1.079367    |  0.079366812 |\n",
       "|  2           | t1           |  2.034495    |  0.034494559 |\n",
       "|  3           | t1           |  2.942990    | -0.057010017 |\n",
       "|  4           | t1           |  3.936265    | -0.063734966 |\n",
       "|  5           | t1           |  4.971931    | -0.028069105 |\n",
       "|  6           | t1           |  5.935258    | -0.064741864 |\n",
       "|  7           | t1           |  6.930239    | -0.069760726 |\n",
       "|  8           | t1           |  8.088869    |  0.088868510 |\n",
       "|  9           | t1           |  8.949670    | -0.050330255 |\n",
       "| 10           | t1           |  9.963969    | -0.036030556 |\n",
       "| ... | ... | ... | ... |\n",
       "|  1           | t2           |  2.0298945   |  0.029894485 |\n",
       "|  2           | t2           |  3.9258667   | -0.074133292 |\n",
       "|  3           | t2           |  6.0798658   |  0.079865815 |\n",
       "|  4           | t2           |  8.0427000   |  0.042699961 |\n",
       "|  5           | t2           | 10.0047110   |  0.004710953 |\n",
       "|  6           | t2           | 12.0451718   |  0.045171754 |\n",
       "|  7           | t2           | 14.0277883   |  0.027788304 |\n",
       "|  8           | t2           | 15.9948606   | -0.005139422 |\n",
       "|  9           | t2           | 17.9814433   | -0.018556727 |\n",
       "| 10           | t2           | 20.0706583   |  0.070658276 |\n",
       "|  1           | t1           |  0.9608387   | -0.039161259 |\n",
       "|  2           | t1           |  2.0267897   |  0.026789747 |\n",
       "|  3           | t1           |  2.9177290   | -0.082271013 |\n",
       "|  4           | t1           |  3.9467534   | -0.053246569 |\n",
       "|  5           | t1           |  5.0340156   |  0.034015561 |\n",
       "|  6           | t1           |  6.0447867   |  0.044786676 |\n",
       "|  7           | t1           |  6.9471870   | -0.052813046 |\n",
       "|  8           | t1           |  8.0205163   |  0.020516265 |\n",
       "|  9           | t1           |  8.9359922   | -0.064007769 |\n",
       "| 10           | t1           | 10.0013729   |  0.001372936 |\n",
       "|  1           | t2           |  1.9076066   | -0.092393352 |\n",
       "|  2           | t2           |  3.9216544   | -0.078345629 |\n",
       "|  3           | t2           |  5.9047371   | -0.095262873 |\n",
       "|  4           | t2           |  7.9451692   | -0.054830831 |\n",
       "|  5           | t2           | 10.0706839   |  0.070683864 |\n",
       "|  6           | t2           | 11.9154638   | -0.084536184 |\n",
       "|  7           | t2           | 13.9948929   | -0.005107067 |\n",
       "|  8           | t2           | 15.9483586   | -0.051641405 |\n",
       "|  9           | t2           | 17.9686723   | -0.031327676 |\n",
       "| 10           | t2           | 19.9371683   | -0.062831726 |\n",
       "\n"
      ],
      "text/plain": [
       "    n   alg time       error       \n",
       "1    1  t1   1.010572   0.010572148\n",
       "2    2  t1   1.981689  -0.018310993\n",
       "3    3  t1   3.066268   0.066268043\n",
       "4    4  t1   4.060221   0.060220570\n",
       "5    5  t1   5.029502   0.029502051\n",
       "6    6  t1   6.045928   0.045927536\n",
       "7    7  t1   6.957461  -0.042538559\n",
       "8    8  t1   8.009891   0.009891313\n",
       "9    9  t1   9.053959   0.053959370\n",
       "10  10  t1   9.982560  -0.017439984\n",
       "11   1  t2   1.997585  -0.002414813\n",
       "12   2  t2   3.953772  -0.046227795\n",
       "13   3  t2   5.978172  -0.021827928\n",
       "14   4  t2   8.052453   0.052453117\n",
       "15   5  t2  10.072778   0.072777961\n",
       "16   6  t2  11.957002  -0.042997938\n",
       "17   7  t2  14.002079   0.002078900\n",
       "18   8  t2  16.031059   0.031058822\n",
       "19   9  t2  18.046717   0.046716672\n",
       "20  10  t2  20.046959   0.046959194\n",
       "21   1  t1   1.079367   0.079366812\n",
       "22   2  t1   2.034495   0.034494559\n",
       "23   3  t1   2.942990  -0.057010017\n",
       "24   4  t1   3.936265  -0.063734966\n",
       "25   5  t1   4.971931  -0.028069105\n",
       "26   6  t1   5.935258  -0.064741864\n",
       "27   7  t1   6.930239  -0.069760726\n",
       "28   8  t1   8.088869   0.088868510\n",
       "29   9  t1   8.949670  -0.050330255\n",
       "30  10  t1   9.963969  -0.036030556\n",
       "... ... ... ...        ...         \n",
       "71   1  t2   2.0298945  0.029894485\n",
       "72   2  t2   3.9258667 -0.074133292\n",
       "73   3  t2   6.0798658  0.079865815\n",
       "74   4  t2   8.0427000  0.042699961\n",
       "75   5  t2  10.0047110  0.004710953\n",
       "76   6  t2  12.0451718  0.045171754\n",
       "77   7  t2  14.0277883  0.027788304\n",
       "78   8  t2  15.9948606 -0.005139422\n",
       "79   9  t2  17.9814433 -0.018556727\n",
       "80  10  t2  20.0706583  0.070658276\n",
       "81   1  t1   0.9608387 -0.039161259\n",
       "82   2  t1   2.0267897  0.026789747\n",
       "83   3  t1   2.9177290 -0.082271013\n",
       "84   4  t1   3.9467534 -0.053246569\n",
       "85   5  t1   5.0340156  0.034015561\n",
       "86   6  t1   6.0447867  0.044786676\n",
       "87   7  t1   6.9471870 -0.052813046\n",
       "88   8  t1   8.0205163  0.020516265\n",
       "89   9  t1   8.9359922 -0.064007769\n",
       "90  10  t1  10.0013729  0.001372936\n",
       "91   1  t2   1.9076066 -0.092393352\n",
       "92   2  t2   3.9216544 -0.078345629\n",
       "93   3  t2   5.9047371 -0.095262873\n",
       "94   4  t2   7.9451692 -0.054830831\n",
       "95   5  t2  10.0706839  0.070683864\n",
       "96   6  t2  11.9154638 -0.084536184\n",
       "97   7  t2  13.9948929 -0.005107067\n",
       "98   8  t2  15.9483586 -0.051641405\n",
       "99   9  t2  17.9686723 -0.031327676\n",
       "100 10  t2  19.9371683 -0.062831726"
      ]
     },
     "metadata": {},
     "output_type": "display_data"
    }
   ],
   "source": [
    "results <- read.csv(\"data2.txt\")\n",
    "\n",
    "results"
   ]
  },
  {
   "cell_type": "markdown",
   "metadata": {},
   "source": [
    "Dodanie nowej kolumny:"
   ]
  },
  {
   "cell_type": "code",
   "execution_count": 39,
   "metadata": {},
   "outputs": [
    {
     "data": {
      "text/html": [
       "<table>\n",
       "<thead><tr><th scope=col>n</th><th scope=col>alg</th><th scope=col>time</th><th scope=col>error</th><th scope=col>speed</th></tr></thead>\n",
       "<tbody>\n",
       "\t<tr><td> 1          </td><td>t1          </td><td> 1.010572   </td><td> 0.010572148</td><td>0.9895385   </td></tr>\n",
       "\t<tr><td> 2          </td><td>t1          </td><td> 1.981689   </td><td>-0.018310993</td><td>1.0092401   </td></tr>\n",
       "\t<tr><td> 3          </td><td>t1          </td><td> 3.066268   </td><td> 0.066268043</td><td>0.9783880   </td></tr>\n",
       "\t<tr><td> 4          </td><td>t1          </td><td> 4.060221   </td><td> 0.060220570</td><td>0.9851682   </td></tr>\n",
       "\t<tr><td> 5          </td><td>t1          </td><td> 5.029502   </td><td> 0.029502051</td><td>0.9941342   </td></tr>\n",
       "\t<tr><td> 6          </td><td>t1          </td><td> 6.045928   </td><td> 0.045927536</td><td>0.9924036   </td></tr>\n",
       "\t<tr><td> 7          </td><td>t1          </td><td> 6.957461   </td><td>-0.042538559</td><td>1.0061141   </td></tr>\n",
       "\t<tr><td> 8          </td><td>t1          </td><td> 8.009891   </td><td> 0.009891313</td><td>0.9987651   </td></tr>\n",
       "\t<tr><td> 9          </td><td>t1          </td><td> 9.053959   </td><td> 0.053959370</td><td>0.9940402   </td></tr>\n",
       "\t<tr><td>10          </td><td>t1          </td><td> 9.982560   </td><td>-0.017439984</td><td>1.0017470   </td></tr>\n",
       "\t<tr><td> 1          </td><td>t2          </td><td> 1.997585   </td><td>-0.002414813</td><td>0.5006044   </td></tr>\n",
       "\t<tr><td> 2          </td><td>t2          </td><td> 3.953772   </td><td>-0.046227795</td><td>0.5058460   </td></tr>\n",
       "\t<tr><td> 3          </td><td>t2          </td><td> 5.978172   </td><td>-0.021827928</td><td>0.5018256   </td></tr>\n",
       "\t<tr><td> 4          </td><td>t2          </td><td> 8.052453   </td><td> 0.052453117</td><td>0.4967430   </td></tr>\n",
       "\t<tr><td> 5          </td><td>t2          </td><td>10.072778   </td><td> 0.072777961</td><td>0.4963874   </td></tr>\n",
       "\t<tr><td> 6          </td><td>t2          </td><td>11.957002   </td><td>-0.042997938</td><td>0.5017980   </td></tr>\n",
       "\t<tr><td> 7          </td><td>t2          </td><td>14.002079   </td><td> 0.002078900</td><td>0.4999258   </td></tr>\n",
       "\t<tr><td> 8          </td><td>t2          </td><td>16.031059   </td><td> 0.031058822</td><td>0.4990313   </td></tr>\n",
       "\t<tr><td> 9          </td><td>t2          </td><td>18.046717   </td><td> 0.046716672</td><td>0.4987057   </td></tr>\n",
       "\t<tr><td>10          </td><td>t2          </td><td>20.046959   </td><td> 0.046959194</td><td>0.4988288   </td></tr>\n",
       "\t<tr><td> 1          </td><td>t1          </td><td> 1.079367   </td><td> 0.079366812</td><td>0.9264691   </td></tr>\n",
       "\t<tr><td> 2          </td><td>t1          </td><td> 2.034495   </td><td> 0.034494559</td><td>0.9830451   </td></tr>\n",
       "\t<tr><td> 3          </td><td>t1          </td><td> 2.942990   </td><td>-0.057010017</td><td>1.0193715   </td></tr>\n",
       "\t<tr><td> 4          </td><td>t1          </td><td> 3.936265   </td><td>-0.063734966</td><td>1.0161917   </td></tr>\n",
       "\t<tr><td> 5          </td><td>t1          </td><td> 4.971931   </td><td>-0.028069105</td><td>1.0056455   </td></tr>\n",
       "\t<tr><td> 6          </td><td>t1          </td><td> 5.935258   </td><td>-0.064741864</td><td>1.0109080   </td></tr>\n",
       "\t<tr><td> 7          </td><td>t1          </td><td> 6.930239   </td><td>-0.069760726</td><td>1.0100661   </td></tr>\n",
       "\t<tr><td> 8          </td><td>t1          </td><td> 8.088869   </td><td> 0.088868510</td><td>0.9890135   </td></tr>\n",
       "\t<tr><td> 9          </td><td>t1          </td><td> 8.949670   </td><td>-0.050330255</td><td>1.0056237   </td></tr>\n",
       "\t<tr><td>10          </td><td>t1          </td><td> 9.963969   </td><td>-0.036030556</td><td>1.0036161   </td></tr>\n",
       "\t<tr><td>...</td><td>...</td><td>...</td><td>...</td><td>...</td></tr>\n",
       "\t<tr><td> 1          </td><td>t2          </td><td> 2.0298945  </td><td> 0.029894485</td><td>0.4926364   </td></tr>\n",
       "\t<tr><td> 2          </td><td>t2          </td><td> 3.9258667  </td><td>-0.074133292</td><td>0.5094416   </td></tr>\n",
       "\t<tr><td> 3          </td><td>t2          </td><td> 6.0798658  </td><td> 0.079865815</td><td>0.4934319   </td></tr>\n",
       "\t<tr><td> 4          </td><td>t2          </td><td> 8.0427000  </td><td> 0.042699961</td><td>0.4973454   </td></tr>\n",
       "\t<tr><td> 5          </td><td>t2          </td><td>10.0047110  </td><td> 0.004710953</td><td>0.4997646   </td></tr>\n",
       "\t<tr><td> 6          </td><td>t2          </td><td>12.0451718  </td><td> 0.045171754</td><td>0.4981249   </td></tr>\n",
       "\t<tr><td> 7          </td><td>t2          </td><td>14.0277883  </td><td> 0.027788304</td><td>0.4990095   </td></tr>\n",
       "\t<tr><td> 8          </td><td>t2          </td><td>15.9948606  </td><td>-0.005139422</td><td>0.5001607   </td></tr>\n",
       "\t<tr><td> 9          </td><td>t2          </td><td>17.9814433  </td><td>-0.018556727</td><td>0.5005160   </td></tr>\n",
       "\t<tr><td>10          </td><td>t2          </td><td>20.0706583  </td><td> 0.070658276</td><td>0.4982398   </td></tr>\n",
       "\t<tr><td> 1          </td><td>t1          </td><td> 0.9608387  </td><td>-0.039161259</td><td>1.0407574   </td></tr>\n",
       "\t<tr><td> 2          </td><td>t1          </td><td> 2.0267897  </td><td> 0.026789747</td><td>0.9867822   </td></tr>\n",
       "\t<tr><td> 3          </td><td>t1          </td><td> 2.9177290  </td><td>-0.082271013</td><td>1.0281969   </td></tr>\n",
       "\t<tr><td> 4          </td><td>t1          </td><td> 3.9467534  </td><td>-0.053246569</td><td>1.0134912   </td></tr>\n",
       "\t<tr><td> 5          </td><td>t1          </td><td> 5.0340156  </td><td> 0.034015561</td><td>0.9932429   </td></tr>\n",
       "\t<tr><td> 6          </td><td>t1          </td><td> 6.0447867  </td><td> 0.044786676</td><td>0.9925909   </td></tr>\n",
       "\t<tr><td> 7          </td><td>t1          </td><td> 6.9471870  </td><td>-0.052813046</td><td>1.0076021   </td></tr>\n",
       "\t<tr><td> 8          </td><td>t1          </td><td> 8.0205163  </td><td> 0.020516265</td><td>0.9974420   </td></tr>\n",
       "\t<tr><td> 9          </td><td>t1          </td><td> 8.9359922  </td><td>-0.064007769</td><td>1.0071629   </td></tr>\n",
       "\t<tr><td>10          </td><td>t1          </td><td>10.0013729  </td><td> 0.001372936</td><td>0.9998627   </td></tr>\n",
       "\t<tr><td> 1          </td><td>t2          </td><td> 1.9076066  </td><td>-0.092393352</td><td>0.5242171   </td></tr>\n",
       "\t<tr><td> 2          </td><td>t2          </td><td> 3.9216544  </td><td>-0.078345629</td><td>0.5099888   </td></tr>\n",
       "\t<tr><td> 3          </td><td>t2          </td><td> 5.9047371  </td><td>-0.095262873</td><td>0.5080666   </td></tr>\n",
       "\t<tr><td> 4          </td><td>t2          </td><td> 7.9451692  </td><td>-0.054830831</td><td>0.5034506   </td></tr>\n",
       "\t<tr><td> 5          </td><td>t2          </td><td>10.0706839  </td><td> 0.070683864</td><td>0.4964906   </td></tr>\n",
       "\t<tr><td> 6          </td><td>t2          </td><td>11.9154638  </td><td>-0.084536184</td><td>0.5035473   </td></tr>\n",
       "\t<tr><td> 7          </td><td>t2          </td><td>13.9948929  </td><td>-0.005107067</td><td>0.5001825   </td></tr>\n",
       "\t<tr><td> 8          </td><td>t2          </td><td>15.9483586  </td><td>-0.051641405</td><td>0.5016190   </td></tr>\n",
       "\t<tr><td> 9          </td><td>t2          </td><td>17.9686723  </td><td>-0.031327676</td><td>0.5008717   </td></tr>\n",
       "\t<tr><td>10          </td><td>t2          </td><td>19.9371683  </td><td>-0.062831726</td><td>0.5015757   </td></tr>\n",
       "</tbody>\n",
       "</table>\n"
      ],
      "text/latex": [
       "\\begin{tabular}{r|lllll}\n",
       " n & alg & time & error & speed\\\\\n",
       "\\hline\n",
       "\t  1           & t1           &  1.010572    &  0.010572148 & 0.9895385   \\\\\n",
       "\t  2           & t1           &  1.981689    & -0.018310993 & 1.0092401   \\\\\n",
       "\t  3           & t1           &  3.066268    &  0.066268043 & 0.9783880   \\\\\n",
       "\t  4           & t1           &  4.060221    &  0.060220570 & 0.9851682   \\\\\n",
       "\t  5           & t1           &  5.029502    &  0.029502051 & 0.9941342   \\\\\n",
       "\t  6           & t1           &  6.045928    &  0.045927536 & 0.9924036   \\\\\n",
       "\t  7           & t1           &  6.957461    & -0.042538559 & 1.0061141   \\\\\n",
       "\t  8           & t1           &  8.009891    &  0.009891313 & 0.9987651   \\\\\n",
       "\t  9           & t1           &  9.053959    &  0.053959370 & 0.9940402   \\\\\n",
       "\t 10           & t1           &  9.982560    & -0.017439984 & 1.0017470   \\\\\n",
       "\t  1           & t2           &  1.997585    & -0.002414813 & 0.5006044   \\\\\n",
       "\t  2           & t2           &  3.953772    & -0.046227795 & 0.5058460   \\\\\n",
       "\t  3           & t2           &  5.978172    & -0.021827928 & 0.5018256   \\\\\n",
       "\t  4           & t2           &  8.052453    &  0.052453117 & 0.4967430   \\\\\n",
       "\t  5           & t2           & 10.072778    &  0.072777961 & 0.4963874   \\\\\n",
       "\t  6           & t2           & 11.957002    & -0.042997938 & 0.5017980   \\\\\n",
       "\t  7           & t2           & 14.002079    &  0.002078900 & 0.4999258   \\\\\n",
       "\t  8           & t2           & 16.031059    &  0.031058822 & 0.4990313   \\\\\n",
       "\t  9           & t2           & 18.046717    &  0.046716672 & 0.4987057   \\\\\n",
       "\t 10           & t2           & 20.046959    &  0.046959194 & 0.4988288   \\\\\n",
       "\t  1           & t1           &  1.079367    &  0.079366812 & 0.9264691   \\\\\n",
       "\t  2           & t1           &  2.034495    &  0.034494559 & 0.9830451   \\\\\n",
       "\t  3           & t1           &  2.942990    & -0.057010017 & 1.0193715   \\\\\n",
       "\t  4           & t1           &  3.936265    & -0.063734966 & 1.0161917   \\\\\n",
       "\t  5           & t1           &  4.971931    & -0.028069105 & 1.0056455   \\\\\n",
       "\t  6           & t1           &  5.935258    & -0.064741864 & 1.0109080   \\\\\n",
       "\t  7           & t1           &  6.930239    & -0.069760726 & 1.0100661   \\\\\n",
       "\t  8           & t1           &  8.088869    &  0.088868510 & 0.9890135   \\\\\n",
       "\t  9           & t1           &  8.949670    & -0.050330255 & 1.0056237   \\\\\n",
       "\t 10           & t1           &  9.963969    & -0.036030556 & 1.0036161   \\\\\n",
       "\t ... & ... & ... & ... & ...\\\\\n",
       "\t  1           & t2           &  2.0298945   &  0.029894485 & 0.4926364   \\\\\n",
       "\t  2           & t2           &  3.9258667   & -0.074133292 & 0.5094416   \\\\\n",
       "\t  3           & t2           &  6.0798658   &  0.079865815 & 0.4934319   \\\\\n",
       "\t  4           & t2           &  8.0427000   &  0.042699961 & 0.4973454   \\\\\n",
       "\t  5           & t2           & 10.0047110   &  0.004710953 & 0.4997646   \\\\\n",
       "\t  6           & t2           & 12.0451718   &  0.045171754 & 0.4981249   \\\\\n",
       "\t  7           & t2           & 14.0277883   &  0.027788304 & 0.4990095   \\\\\n",
       "\t  8           & t2           & 15.9948606   & -0.005139422 & 0.5001607   \\\\\n",
       "\t  9           & t2           & 17.9814433   & -0.018556727 & 0.5005160   \\\\\n",
       "\t 10           & t2           & 20.0706583   &  0.070658276 & 0.4982398   \\\\\n",
       "\t  1           & t1           &  0.9608387   & -0.039161259 & 1.0407574   \\\\\n",
       "\t  2           & t1           &  2.0267897   &  0.026789747 & 0.9867822   \\\\\n",
       "\t  3           & t1           &  2.9177290   & -0.082271013 & 1.0281969   \\\\\n",
       "\t  4           & t1           &  3.9467534   & -0.053246569 & 1.0134912   \\\\\n",
       "\t  5           & t1           &  5.0340156   &  0.034015561 & 0.9932429   \\\\\n",
       "\t  6           & t1           &  6.0447867   &  0.044786676 & 0.9925909   \\\\\n",
       "\t  7           & t1           &  6.9471870   & -0.052813046 & 1.0076021   \\\\\n",
       "\t  8           & t1           &  8.0205163   &  0.020516265 & 0.9974420   \\\\\n",
       "\t  9           & t1           &  8.9359922   & -0.064007769 & 1.0071629   \\\\\n",
       "\t 10           & t1           & 10.0013729   &  0.001372936 & 0.9998627   \\\\\n",
       "\t  1           & t2           &  1.9076066   & -0.092393352 & 0.5242171   \\\\\n",
       "\t  2           & t2           &  3.9216544   & -0.078345629 & 0.5099888   \\\\\n",
       "\t  3           & t2           &  5.9047371   & -0.095262873 & 0.5080666   \\\\\n",
       "\t  4           & t2           &  7.9451692   & -0.054830831 & 0.5034506   \\\\\n",
       "\t  5           & t2           & 10.0706839   &  0.070683864 & 0.4964906   \\\\\n",
       "\t  6           & t2           & 11.9154638   & -0.084536184 & 0.5035473   \\\\\n",
       "\t  7           & t2           & 13.9948929   & -0.005107067 & 0.5001825   \\\\\n",
       "\t  8           & t2           & 15.9483586   & -0.051641405 & 0.5016190   \\\\\n",
       "\t  9           & t2           & 17.9686723   & -0.031327676 & 0.5008717   \\\\\n",
       "\t 10           & t2           & 19.9371683   & -0.062831726 & 0.5015757   \\\\\n",
       "\\end{tabular}\n"
      ],
      "text/markdown": [
       "\n",
       "| n | alg | time | error | speed |\n",
       "|---|---|---|---|---|\n",
       "|  1           | t1           |  1.010572    |  0.010572148 | 0.9895385    |\n",
       "|  2           | t1           |  1.981689    | -0.018310993 | 1.0092401    |\n",
       "|  3           | t1           |  3.066268    |  0.066268043 | 0.9783880    |\n",
       "|  4           | t1           |  4.060221    |  0.060220570 | 0.9851682    |\n",
       "|  5           | t1           |  5.029502    |  0.029502051 | 0.9941342    |\n",
       "|  6           | t1           |  6.045928    |  0.045927536 | 0.9924036    |\n",
       "|  7           | t1           |  6.957461    | -0.042538559 | 1.0061141    |\n",
       "|  8           | t1           |  8.009891    |  0.009891313 | 0.9987651    |\n",
       "|  9           | t1           |  9.053959    |  0.053959370 | 0.9940402    |\n",
       "| 10           | t1           |  9.982560    | -0.017439984 | 1.0017470    |\n",
       "|  1           | t2           |  1.997585    | -0.002414813 | 0.5006044    |\n",
       "|  2           | t2           |  3.953772    | -0.046227795 | 0.5058460    |\n",
       "|  3           | t2           |  5.978172    | -0.021827928 | 0.5018256    |\n",
       "|  4           | t2           |  8.052453    |  0.052453117 | 0.4967430    |\n",
       "|  5           | t2           | 10.072778    |  0.072777961 | 0.4963874    |\n",
       "|  6           | t2           | 11.957002    | -0.042997938 | 0.5017980    |\n",
       "|  7           | t2           | 14.002079    |  0.002078900 | 0.4999258    |\n",
       "|  8           | t2           | 16.031059    |  0.031058822 | 0.4990313    |\n",
       "|  9           | t2           | 18.046717    |  0.046716672 | 0.4987057    |\n",
       "| 10           | t2           | 20.046959    |  0.046959194 | 0.4988288    |\n",
       "|  1           | t1           |  1.079367    |  0.079366812 | 0.9264691    |\n",
       "|  2           | t1           |  2.034495    |  0.034494559 | 0.9830451    |\n",
       "|  3           | t1           |  2.942990    | -0.057010017 | 1.0193715    |\n",
       "|  4           | t1           |  3.936265    | -0.063734966 | 1.0161917    |\n",
       "|  5           | t1           |  4.971931    | -0.028069105 | 1.0056455    |\n",
       "|  6           | t1           |  5.935258    | -0.064741864 | 1.0109080    |\n",
       "|  7           | t1           |  6.930239    | -0.069760726 | 1.0100661    |\n",
       "|  8           | t1           |  8.088869    |  0.088868510 | 0.9890135    |\n",
       "|  9           | t1           |  8.949670    | -0.050330255 | 1.0056237    |\n",
       "| 10           | t1           |  9.963969    | -0.036030556 | 1.0036161    |\n",
       "| ... | ... | ... | ... | ... |\n",
       "|  1           | t2           |  2.0298945   |  0.029894485 | 0.4926364    |\n",
       "|  2           | t2           |  3.9258667   | -0.074133292 | 0.5094416    |\n",
       "|  3           | t2           |  6.0798658   |  0.079865815 | 0.4934319    |\n",
       "|  4           | t2           |  8.0427000   |  0.042699961 | 0.4973454    |\n",
       "|  5           | t2           | 10.0047110   |  0.004710953 | 0.4997646    |\n",
       "|  6           | t2           | 12.0451718   |  0.045171754 | 0.4981249    |\n",
       "|  7           | t2           | 14.0277883   |  0.027788304 | 0.4990095    |\n",
       "|  8           | t2           | 15.9948606   | -0.005139422 | 0.5001607    |\n",
       "|  9           | t2           | 17.9814433   | -0.018556727 | 0.5005160    |\n",
       "| 10           | t2           | 20.0706583   |  0.070658276 | 0.4982398    |\n",
       "|  1           | t1           |  0.9608387   | -0.039161259 | 1.0407574    |\n",
       "|  2           | t1           |  2.0267897   |  0.026789747 | 0.9867822    |\n",
       "|  3           | t1           |  2.9177290   | -0.082271013 | 1.0281969    |\n",
       "|  4           | t1           |  3.9467534   | -0.053246569 | 1.0134912    |\n",
       "|  5           | t1           |  5.0340156   |  0.034015561 | 0.9932429    |\n",
       "|  6           | t1           |  6.0447867   |  0.044786676 | 0.9925909    |\n",
       "|  7           | t1           |  6.9471870   | -0.052813046 | 1.0076021    |\n",
       "|  8           | t1           |  8.0205163   |  0.020516265 | 0.9974420    |\n",
       "|  9           | t1           |  8.9359922   | -0.064007769 | 1.0071629    |\n",
       "| 10           | t1           | 10.0013729   |  0.001372936 | 0.9998627    |\n",
       "|  1           | t2           |  1.9076066   | -0.092393352 | 0.5242171    |\n",
       "|  2           | t2           |  3.9216544   | -0.078345629 | 0.5099888    |\n",
       "|  3           | t2           |  5.9047371   | -0.095262873 | 0.5080666    |\n",
       "|  4           | t2           |  7.9451692   | -0.054830831 | 0.5034506    |\n",
       "|  5           | t2           | 10.0706839   |  0.070683864 | 0.4964906    |\n",
       "|  6           | t2           | 11.9154638   | -0.084536184 | 0.5035473    |\n",
       "|  7           | t2           | 13.9948929   | -0.005107067 | 0.5001825    |\n",
       "|  8           | t2           | 15.9483586   | -0.051641405 | 0.5016190    |\n",
       "|  9           | t2           | 17.9686723   | -0.031327676 | 0.5008717    |\n",
       "| 10           | t2           | 19.9371683   | -0.062831726 | 0.5015757    |\n",
       "\n"
      ],
      "text/plain": [
       "    n   alg time       error        speed    \n",
       "1    1  t1   1.010572   0.010572148 0.9895385\n",
       "2    2  t1   1.981689  -0.018310993 1.0092401\n",
       "3    3  t1   3.066268   0.066268043 0.9783880\n",
       "4    4  t1   4.060221   0.060220570 0.9851682\n",
       "5    5  t1   5.029502   0.029502051 0.9941342\n",
       "6    6  t1   6.045928   0.045927536 0.9924036\n",
       "7    7  t1   6.957461  -0.042538559 1.0061141\n",
       "8    8  t1   8.009891   0.009891313 0.9987651\n",
       "9    9  t1   9.053959   0.053959370 0.9940402\n",
       "10  10  t1   9.982560  -0.017439984 1.0017470\n",
       "11   1  t2   1.997585  -0.002414813 0.5006044\n",
       "12   2  t2   3.953772  -0.046227795 0.5058460\n",
       "13   3  t2   5.978172  -0.021827928 0.5018256\n",
       "14   4  t2   8.052453   0.052453117 0.4967430\n",
       "15   5  t2  10.072778   0.072777961 0.4963874\n",
       "16   6  t2  11.957002  -0.042997938 0.5017980\n",
       "17   7  t2  14.002079   0.002078900 0.4999258\n",
       "18   8  t2  16.031059   0.031058822 0.4990313\n",
       "19   9  t2  18.046717   0.046716672 0.4987057\n",
       "20  10  t2  20.046959   0.046959194 0.4988288\n",
       "21   1  t1   1.079367   0.079366812 0.9264691\n",
       "22   2  t1   2.034495   0.034494559 0.9830451\n",
       "23   3  t1   2.942990  -0.057010017 1.0193715\n",
       "24   4  t1   3.936265  -0.063734966 1.0161917\n",
       "25   5  t1   4.971931  -0.028069105 1.0056455\n",
       "26   6  t1   5.935258  -0.064741864 1.0109080\n",
       "27   7  t1   6.930239  -0.069760726 1.0100661\n",
       "28   8  t1   8.088869   0.088868510 0.9890135\n",
       "29   9  t1   8.949670  -0.050330255 1.0056237\n",
       "30  10  t1   9.963969  -0.036030556 1.0036161\n",
       "... ... ... ...        ...          ...      \n",
       "71   1  t2   2.0298945  0.029894485 0.4926364\n",
       "72   2  t2   3.9258667 -0.074133292 0.5094416\n",
       "73   3  t2   6.0798658  0.079865815 0.4934319\n",
       "74   4  t2   8.0427000  0.042699961 0.4973454\n",
       "75   5  t2  10.0047110  0.004710953 0.4997646\n",
       "76   6  t2  12.0451718  0.045171754 0.4981249\n",
       "77   7  t2  14.0277883  0.027788304 0.4990095\n",
       "78   8  t2  15.9948606 -0.005139422 0.5001607\n",
       "79   9  t2  17.9814433 -0.018556727 0.5005160\n",
       "80  10  t2  20.0706583  0.070658276 0.4982398\n",
       "81   1  t1   0.9608387 -0.039161259 1.0407574\n",
       "82   2  t1   2.0267897  0.026789747 0.9867822\n",
       "83   3  t1   2.9177290 -0.082271013 1.0281969\n",
       "84   4  t1   3.9467534 -0.053246569 1.0134912\n",
       "85   5  t1   5.0340156  0.034015561 0.9932429\n",
       "86   6  t1   6.0447867  0.044786676 0.9925909\n",
       "87   7  t1   6.9471870 -0.052813046 1.0076021\n",
       "88   8  t1   8.0205163  0.020516265 0.9974420\n",
       "89   9  t1   8.9359922 -0.064007769 1.0071629\n",
       "90  10  t1  10.0013729  0.001372936 0.9998627\n",
       "91   1  t2   1.9076066 -0.092393352 0.5242171\n",
       "92   2  t2   3.9216544 -0.078345629 0.5099888\n",
       "93   3  t2   5.9047371 -0.095262873 0.5080666\n",
       "94   4  t2   7.9451692 -0.054830831 0.5034506\n",
       "95   5  t2  10.0706839  0.070683864 0.4964906\n",
       "96   6  t2  11.9154638 -0.084536184 0.5035473\n",
       "97   7  t2  13.9948929 -0.005107067 0.5001825\n",
       "98   8  t2  15.9483586 -0.051641405 0.5016190\n",
       "99   9  t2  17.9686723 -0.031327676 0.5008717\n",
       "100 10  t2  19.9371683 -0.062831726 0.5015757"
      ]
     },
     "metadata": {},
     "output_type": "display_data"
    }
   ],
   "source": [
    "results$speed <- results$n / results$time\n",
    "\n",
    "results"
   ]
  },
  {
   "cell_type": "markdown",
   "metadata": {},
   "source": [
    "Grupowanie (agregacja)\n",
    "\n",
    "Przyklad: zastosowanie funkcji FUN (tutaj: mean czyli obliczającej średnią) do wszystkich wartosci time dla takich samych n i alg:"
   ]
  },
  {
   "cell_type": "code",
   "execution_count": 40,
   "metadata": {},
   "outputs": [
    {
     "data": {
      "text/html": [
       "<table>\n",
       "<thead><tr><th scope=col>n</th><th scope=col>alg</th><th scope=col>time</th></tr></thead>\n",
       "<tbody>\n",
       "\t<tr><td> 1        </td><td>t1        </td><td> 0.9990494</td></tr>\n",
       "\t<tr><td> 2        </td><td>t1        </td><td> 2.0152520</td></tr>\n",
       "\t<tr><td> 3        </td><td>t1        </td><td> 2.9867132</td></tr>\n",
       "\t<tr><td> 4        </td><td>t1        </td><td> 3.9869472</td></tr>\n",
       "\t<tr><td> 5        </td><td>t1        </td><td> 4.9716765</td></tr>\n",
       "\t<tr><td> 6        </td><td>t1        </td><td> 6.0127196</td></tr>\n",
       "\t<tr><td> 7        </td><td>t1        </td><td> 6.9400184</td></tr>\n",
       "\t<tr><td> 8        </td><td>t1        </td><td> 8.0313431</td></tr>\n",
       "\t<tr><td> 9        </td><td>t1        </td><td> 8.9836556</td></tr>\n",
       "\t<tr><td>10        </td><td>t1        </td><td> 9.9948604</td></tr>\n",
       "\t<tr><td> 1        </td><td>t2        </td><td> 1.9878299</td></tr>\n",
       "\t<tr><td> 2        </td><td>t2        </td><td> 3.9599609</td></tr>\n",
       "\t<tr><td> 3        </td><td>t2        </td><td> 5.9861750</td></tr>\n",
       "\t<tr><td> 4        </td><td>t2        </td><td> 8.0300291</td></tr>\n",
       "\t<tr><td> 5        </td><td>t2        </td><td>10.0251302</td></tr>\n",
       "\t<tr><td> 6        </td><td>t2        </td><td>11.9724193</td></tr>\n",
       "\t<tr><td> 7        </td><td>t2        </td><td>14.0112964</td></tr>\n",
       "\t<tr><td> 8        </td><td>t2        </td><td>16.0212972</td></tr>\n",
       "\t<tr><td> 9        </td><td>t2        </td><td>17.9699109</td></tr>\n",
       "\t<tr><td>10        </td><td>t2        </td><td>19.9883028</td></tr>\n",
       "</tbody>\n",
       "</table>\n"
      ],
      "text/latex": [
       "\\begin{tabular}{r|lll}\n",
       " n & alg & time\\\\\n",
       "\\hline\n",
       "\t  1         & t1         &  0.9990494\\\\\n",
       "\t  2         & t1         &  2.0152520\\\\\n",
       "\t  3         & t1         &  2.9867132\\\\\n",
       "\t  4         & t1         &  3.9869472\\\\\n",
       "\t  5         & t1         &  4.9716765\\\\\n",
       "\t  6         & t1         &  6.0127196\\\\\n",
       "\t  7         & t1         &  6.9400184\\\\\n",
       "\t  8         & t1         &  8.0313431\\\\\n",
       "\t  9         & t1         &  8.9836556\\\\\n",
       "\t 10         & t1         &  9.9948604\\\\\n",
       "\t  1         & t2         &  1.9878299\\\\\n",
       "\t  2         & t2         &  3.9599609\\\\\n",
       "\t  3         & t2         &  5.9861750\\\\\n",
       "\t  4         & t2         &  8.0300291\\\\\n",
       "\t  5         & t2         & 10.0251302\\\\\n",
       "\t  6         & t2         & 11.9724193\\\\\n",
       "\t  7         & t2         & 14.0112964\\\\\n",
       "\t  8         & t2         & 16.0212972\\\\\n",
       "\t  9         & t2         & 17.9699109\\\\\n",
       "\t 10         & t2         & 19.9883028\\\\\n",
       "\\end{tabular}\n"
      ],
      "text/markdown": [
       "\n",
       "| n | alg | time |\n",
       "|---|---|---|\n",
       "|  1         | t1         |  0.9990494 |\n",
       "|  2         | t1         |  2.0152520 |\n",
       "|  3         | t1         |  2.9867132 |\n",
       "|  4         | t1         |  3.9869472 |\n",
       "|  5         | t1         |  4.9716765 |\n",
       "|  6         | t1         |  6.0127196 |\n",
       "|  7         | t1         |  6.9400184 |\n",
       "|  8         | t1         |  8.0313431 |\n",
       "|  9         | t1         |  8.9836556 |\n",
       "| 10         | t1         |  9.9948604 |\n",
       "|  1         | t2         |  1.9878299 |\n",
       "|  2         | t2         |  3.9599609 |\n",
       "|  3         | t2         |  5.9861750 |\n",
       "|  4         | t2         |  8.0300291 |\n",
       "|  5         | t2         | 10.0251302 |\n",
       "|  6         | t2         | 11.9724193 |\n",
       "|  7         | t2         | 14.0112964 |\n",
       "|  8         | t2         | 16.0212972 |\n",
       "|  9         | t2         | 17.9699109 |\n",
       "| 10         | t2         | 19.9883028 |\n",
       "\n"
      ],
      "text/plain": [
       "   n  alg time      \n",
       "1   1 t1   0.9990494\n",
       "2   2 t1   2.0152520\n",
       "3   3 t1   2.9867132\n",
       "4   4 t1   3.9869472\n",
       "5   5 t1   4.9716765\n",
       "6   6 t1   6.0127196\n",
       "7   7 t1   6.9400184\n",
       "8   8 t1   8.0313431\n",
       "9   9 t1   8.9836556\n",
       "10 10 t1   9.9948604\n",
       "11  1 t2   1.9878299\n",
       "12  2 t2   3.9599609\n",
       "13  3 t2   5.9861750\n",
       "14  4 t2   8.0300291\n",
       "15  5 t2  10.0251302\n",
       "16  6 t2  11.9724193\n",
       "17  7 t2  14.0112964\n",
       "18  8 t2  16.0212972\n",
       "19  9 t2  17.9699109\n",
       "20 10 t2  19.9883028"
      ]
     },
     "metadata": {},
     "output_type": "display_data"
    }
   ],
   "source": [
    "avg_results <- aggregate(time ~ n:alg, data=results, FUN=mean)\n",
    "\n",
    "avg_results"
   ]
  },
  {
   "cell_type": "markdown",
   "metadata": {},
   "source": [
    "Dołączenie kolumny z obliczonym odchyleniem standardowym (sd) do tabeli:"
   ]
  },
  {
   "cell_type": "code",
   "execution_count": 41,
   "metadata": {},
   "outputs": [],
   "source": [
    "avg_results$sd <- aggregate(time ~ n:alg, data=results, FUN=sd)$time"
   ]
  },
  {
   "cell_type": "code",
   "execution_count": 42,
   "metadata": {},
   "outputs": [
    {
     "data": {
      "text/html": [
       "<table>\n",
       "<thead><tr><th scope=col>n</th><th scope=col>alg</th><th scope=col>time</th><th scope=col>sd</th></tr></thead>\n",
       "<tbody>\n",
       "\t<tr><td> 1        </td><td>t1        </td><td> 0.9990494</td><td>0.04902917</td></tr>\n",
       "\t<tr><td> 2        </td><td>t1        </td><td> 2.0152520</td><td>0.04664671</td></tr>\n",
       "\t<tr><td> 3        </td><td>t1        </td><td> 2.9867132</td><td>0.07417292</td></tr>\n",
       "\t<tr><td> 4        </td><td>t1        </td><td> 3.9869472</td><td>0.08150832</td></tr>\n",
       "\t<tr><td> 5        </td><td>t1        </td><td> 4.9716765</td><td>0.06018547</td></tr>\n",
       "\t<tr><td> 6        </td><td>t1        </td><td> 6.0127196</td><td>0.04730261</td></tr>\n",
       "\t<tr><td> 7        </td><td>t1        </td><td> 6.9400184</td><td>0.01562886</td></tr>\n",
       "\t<tr><td> 8        </td><td>t1        </td><td> 8.0313431</td><td>0.05328619</td></tr>\n",
       "\t<tr><td> 9        </td><td>t1        </td><td> 8.9836556</td><td>0.04886179</td></tr>\n",
       "\t<tr><td>10        </td><td>t1        </td><td> 9.9948604</td><td>0.06245583</td></tr>\n",
       "\t<tr><td> 1        </td><td>t2        </td><td> 1.9878299</td><td>0.06654991</td></tr>\n",
       "\t<tr><td> 2        </td><td>t2        </td><td> 3.9599609</td><td>0.04418932</td></tr>\n",
       "\t<tr><td> 3        </td><td>t2        </td><td> 5.9861750</td><td>0.06413231</td></tr>\n",
       "\t<tr><td> 4        </td><td>t2        </td><td> 8.0300291</td><td>0.04983246</td></tr>\n",
       "\t<tr><td> 5        </td><td>t2        </td><td>10.0251302</td><td>0.04548820</td></tr>\n",
       "\t<tr><td> 6        </td><td>t2        </td><td>11.9724193</td><td>0.05267832</td></tr>\n",
       "\t<tr><td> 7        </td><td>t2        </td><td>14.0112964</td><td>0.05988583</td></tr>\n",
       "\t<tr><td> 8        </td><td>t2        </td><td>16.0212972</td><td>0.05359947</td></tr>\n",
       "\t<tr><td> 9        </td><td>t2        </td><td>17.9699109</td><td>0.05270112</td></tr>\n",
       "\t<tr><td>10        </td><td>t2        </td><td>19.9883028</td><td>0.07047764</td></tr>\n",
       "</tbody>\n",
       "</table>\n"
      ],
      "text/latex": [
       "\\begin{tabular}{r|llll}\n",
       " n & alg & time & sd\\\\\n",
       "\\hline\n",
       "\t  1         & t1         &  0.9990494 & 0.04902917\\\\\n",
       "\t  2         & t1         &  2.0152520 & 0.04664671\\\\\n",
       "\t  3         & t1         &  2.9867132 & 0.07417292\\\\\n",
       "\t  4         & t1         &  3.9869472 & 0.08150832\\\\\n",
       "\t  5         & t1         &  4.9716765 & 0.06018547\\\\\n",
       "\t  6         & t1         &  6.0127196 & 0.04730261\\\\\n",
       "\t  7         & t1         &  6.9400184 & 0.01562886\\\\\n",
       "\t  8         & t1         &  8.0313431 & 0.05328619\\\\\n",
       "\t  9         & t1         &  8.9836556 & 0.04886179\\\\\n",
       "\t 10         & t1         &  9.9948604 & 0.06245583\\\\\n",
       "\t  1         & t2         &  1.9878299 & 0.06654991\\\\\n",
       "\t  2         & t2         &  3.9599609 & 0.04418932\\\\\n",
       "\t  3         & t2         &  5.9861750 & 0.06413231\\\\\n",
       "\t  4         & t2         &  8.0300291 & 0.04983246\\\\\n",
       "\t  5         & t2         & 10.0251302 & 0.04548820\\\\\n",
       "\t  6         & t2         & 11.9724193 & 0.05267832\\\\\n",
       "\t  7         & t2         & 14.0112964 & 0.05988583\\\\\n",
       "\t  8         & t2         & 16.0212972 & 0.05359947\\\\\n",
       "\t  9         & t2         & 17.9699109 & 0.05270112\\\\\n",
       "\t 10         & t2         & 19.9883028 & 0.07047764\\\\\n",
       "\\end{tabular}\n"
      ],
      "text/markdown": [
       "\n",
       "| n | alg | time | sd |\n",
       "|---|---|---|---|\n",
       "|  1         | t1         |  0.9990494 | 0.04902917 |\n",
       "|  2         | t1         |  2.0152520 | 0.04664671 |\n",
       "|  3         | t1         |  2.9867132 | 0.07417292 |\n",
       "|  4         | t1         |  3.9869472 | 0.08150832 |\n",
       "|  5         | t1         |  4.9716765 | 0.06018547 |\n",
       "|  6         | t1         |  6.0127196 | 0.04730261 |\n",
       "|  7         | t1         |  6.9400184 | 0.01562886 |\n",
       "|  8         | t1         |  8.0313431 | 0.05328619 |\n",
       "|  9         | t1         |  8.9836556 | 0.04886179 |\n",
       "| 10         | t1         |  9.9948604 | 0.06245583 |\n",
       "|  1         | t2         |  1.9878299 | 0.06654991 |\n",
       "|  2         | t2         |  3.9599609 | 0.04418932 |\n",
       "|  3         | t2         |  5.9861750 | 0.06413231 |\n",
       "|  4         | t2         |  8.0300291 | 0.04983246 |\n",
       "|  5         | t2         | 10.0251302 | 0.04548820 |\n",
       "|  6         | t2         | 11.9724193 | 0.05267832 |\n",
       "|  7         | t2         | 14.0112964 | 0.05988583 |\n",
       "|  8         | t2         | 16.0212972 | 0.05359947 |\n",
       "|  9         | t2         | 17.9699109 | 0.05270112 |\n",
       "| 10         | t2         | 19.9883028 | 0.07047764 |\n",
       "\n"
      ],
      "text/plain": [
       "   n  alg time       sd        \n",
       "1   1 t1   0.9990494 0.04902917\n",
       "2   2 t1   2.0152520 0.04664671\n",
       "3   3 t1   2.9867132 0.07417292\n",
       "4   4 t1   3.9869472 0.08150832\n",
       "5   5 t1   4.9716765 0.06018547\n",
       "6   6 t1   6.0127196 0.04730261\n",
       "7   7 t1   6.9400184 0.01562886\n",
       "8   8 t1   8.0313431 0.05328619\n",
       "9   9 t1   8.9836556 0.04886179\n",
       "10 10 t1   9.9948604 0.06245583\n",
       "11  1 t2   1.9878299 0.06654991\n",
       "12  2 t2   3.9599609 0.04418932\n",
       "13  3 t2   5.9861750 0.06413231\n",
       "14  4 t2   8.0300291 0.04983246\n",
       "15  5 t2  10.0251302 0.04548820\n",
       "16  6 t2  11.9724193 0.05267832\n",
       "17  7 t2  14.0112964 0.05988583\n",
       "18  8 t2  16.0212972 0.05359947\n",
       "19  9 t2  17.9699109 0.05270112\n",
       "20 10 t2  19.9883028 0.07047764"
      ]
     },
     "metadata": {},
     "output_type": "display_data"
    }
   ],
   "source": [
    "avg_results"
   ]
  },
  {
   "cell_type": "markdown",
   "metadata": {},
   "source": [
    "Agregacja kilku wielkości:"
   ]
  },
  {
   "cell_type": "code",
   "execution_count": 43,
   "metadata": {},
   "outputs": [],
   "source": [
    "avg_results <- aggregate(cbind(time,speed) ~ n:alg, data=results, FUN=mean) "
   ]
  },
  {
   "cell_type": "code",
   "execution_count": 44,
   "metadata": {},
   "outputs": [
    {
     "data": {
      "text/html": [
       "<table>\n",
       "<thead><tr><th scope=col>n</th><th scope=col>alg</th><th scope=col>time</th><th scope=col>speed</th></tr></thead>\n",
       "<tbody>\n",
       "\t<tr><td> 1        </td><td>t1        </td><td> 0.9990494</td><td>1.0028054 </td></tr>\n",
       "\t<tr><td> 2        </td><td>t1        </td><td> 2.0152520</td><td>0.9928574 </td></tr>\n",
       "\t<tr><td> 3        </td><td>t1        </td><td> 2.9867132</td><td>1.0049406 </td></tr>\n",
       "\t<tr><td> 4        </td><td>t1        </td><td> 3.9869472</td><td>1.0036074 </td></tr>\n",
       "\t<tr><td> 5        </td><td>t1        </td><td> 4.9716765</td><td>1.0058149 </td></tr>\n",
       "\t<tr><td> 6        </td><td>t1        </td><td> 6.0127196</td><td>0.9979343 </td></tr>\n",
       "\t<tr><td> 7        </td><td>t1        </td><td> 6.9400184</td><td>1.0086470 </td></tr>\n",
       "\t<tr><td> 8        </td><td>t1        </td><td> 8.0313431</td><td>0.9961325 </td></tr>\n",
       "\t<tr><td> 9        </td><td>t1        </td><td> 8.9836556</td><td>1.0018430 </td></tr>\n",
       "\t<tr><td>10        </td><td>t1        </td><td> 9.9948604</td><td>1.0005453 </td></tr>\n",
       "\t<tr><td> 1        </td><td>t2        </td><td> 1.9878299</td><td>0.5035135 </td></tr>\n",
       "\t<tr><td> 2        </td><td>t2        </td><td> 3.9599609</td><td>0.5051054 </td></tr>\n",
       "\t<tr><td> 3        </td><td>t2        </td><td> 5.9861750</td><td>0.5012006 </td></tr>\n",
       "\t<tr><td> 4        </td><td>t2        </td><td> 8.0300291</td><td>0.4981456 </td></tr>\n",
       "\t<tr><td> 5        </td><td>t2        </td><td>10.0251302</td><td>0.4987549 </td></tr>\n",
       "\t<tr><td> 6        </td><td>t2        </td><td>11.9724193</td><td>0.5011596 </td></tr>\n",
       "\t<tr><td> 7        </td><td>t2        </td><td>14.0112964</td><td>0.4996042 </td></tr>\n",
       "\t<tr><td> 8        </td><td>t2        </td><td>16.0212972</td><td>0.4993398 </td></tr>\n",
       "\t<tr><td> 9        </td><td>t2        </td><td>17.9699109</td><td>0.5008407 </td></tr>\n",
       "\t<tr><td>10        </td><td>t2        </td><td>19.9883028</td><td>0.5002976 </td></tr>\n",
       "</tbody>\n",
       "</table>\n"
      ],
      "text/latex": [
       "\\begin{tabular}{r|llll}\n",
       " n & alg & time & speed\\\\\n",
       "\\hline\n",
       "\t  1         & t1         &  0.9990494 & 1.0028054 \\\\\n",
       "\t  2         & t1         &  2.0152520 & 0.9928574 \\\\\n",
       "\t  3         & t1         &  2.9867132 & 1.0049406 \\\\\n",
       "\t  4         & t1         &  3.9869472 & 1.0036074 \\\\\n",
       "\t  5         & t1         &  4.9716765 & 1.0058149 \\\\\n",
       "\t  6         & t1         &  6.0127196 & 0.9979343 \\\\\n",
       "\t  7         & t1         &  6.9400184 & 1.0086470 \\\\\n",
       "\t  8         & t1         &  8.0313431 & 0.9961325 \\\\\n",
       "\t  9         & t1         &  8.9836556 & 1.0018430 \\\\\n",
       "\t 10         & t1         &  9.9948604 & 1.0005453 \\\\\n",
       "\t  1         & t2         &  1.9878299 & 0.5035135 \\\\\n",
       "\t  2         & t2         &  3.9599609 & 0.5051054 \\\\\n",
       "\t  3         & t2         &  5.9861750 & 0.5012006 \\\\\n",
       "\t  4         & t2         &  8.0300291 & 0.4981456 \\\\\n",
       "\t  5         & t2         & 10.0251302 & 0.4987549 \\\\\n",
       "\t  6         & t2         & 11.9724193 & 0.5011596 \\\\\n",
       "\t  7         & t2         & 14.0112964 & 0.4996042 \\\\\n",
       "\t  8         & t2         & 16.0212972 & 0.4993398 \\\\\n",
       "\t  9         & t2         & 17.9699109 & 0.5008407 \\\\\n",
       "\t 10         & t2         & 19.9883028 & 0.5002976 \\\\\n",
       "\\end{tabular}\n"
      ],
      "text/markdown": [
       "\n",
       "| n | alg | time | speed |\n",
       "|---|---|---|---|\n",
       "|  1         | t1         |  0.9990494 | 1.0028054  |\n",
       "|  2         | t1         |  2.0152520 | 0.9928574  |\n",
       "|  3         | t1         |  2.9867132 | 1.0049406  |\n",
       "|  4         | t1         |  3.9869472 | 1.0036074  |\n",
       "|  5         | t1         |  4.9716765 | 1.0058149  |\n",
       "|  6         | t1         |  6.0127196 | 0.9979343  |\n",
       "|  7         | t1         |  6.9400184 | 1.0086470  |\n",
       "|  8         | t1         |  8.0313431 | 0.9961325  |\n",
       "|  9         | t1         |  8.9836556 | 1.0018430  |\n",
       "| 10         | t1         |  9.9948604 | 1.0005453  |\n",
       "|  1         | t2         |  1.9878299 | 0.5035135  |\n",
       "|  2         | t2         |  3.9599609 | 0.5051054  |\n",
       "|  3         | t2         |  5.9861750 | 0.5012006  |\n",
       "|  4         | t2         |  8.0300291 | 0.4981456  |\n",
       "|  5         | t2         | 10.0251302 | 0.4987549  |\n",
       "|  6         | t2         | 11.9724193 | 0.5011596  |\n",
       "|  7         | t2         | 14.0112964 | 0.4996042  |\n",
       "|  8         | t2         | 16.0212972 | 0.4993398  |\n",
       "|  9         | t2         | 17.9699109 | 0.5008407  |\n",
       "| 10         | t2         | 19.9883028 | 0.5002976  |\n",
       "\n"
      ],
      "text/plain": [
       "   n  alg time       speed    \n",
       "1   1 t1   0.9990494 1.0028054\n",
       "2   2 t1   2.0152520 0.9928574\n",
       "3   3 t1   2.9867132 1.0049406\n",
       "4   4 t1   3.9869472 1.0036074\n",
       "5   5 t1   4.9716765 1.0058149\n",
       "6   6 t1   6.0127196 0.9979343\n",
       "7   7 t1   6.9400184 1.0086470\n",
       "8   8 t1   8.0313431 0.9961325\n",
       "9   9 t1   8.9836556 1.0018430\n",
       "10 10 t1   9.9948604 1.0005453\n",
       "11  1 t2   1.9878299 0.5035135\n",
       "12  2 t2   3.9599609 0.5051054\n",
       "13  3 t2   5.9861750 0.5012006\n",
       "14  4 t2   8.0300291 0.4981456\n",
       "15  5 t2  10.0251302 0.4987549\n",
       "16  6 t2  11.9724193 0.5011596\n",
       "17  7 t2  14.0112964 0.4996042\n",
       "18  8 t2  16.0212972 0.4993398\n",
       "19  9 t2  17.9699109 0.5008407\n",
       "20 10 t2  19.9883028 0.5002976"
      ]
     },
     "metadata": {},
     "output_type": "display_data"
    }
   ],
   "source": [
    "avg_results"
   ]
  },
  {
   "cell_type": "markdown",
   "metadata": {},
   "source": [
    "Filtrowanie danych:"
   ]
  },
  {
   "cell_type": "code",
   "execution_count": 45,
   "metadata": {},
   "outputs": [
    {
     "data": {
      "text/html": [
       "<ol class=list-inline>\n",
       "\t<li>TRUE</li>\n",
       "\t<li>TRUE</li>\n",
       "\t<li>TRUE</li>\n",
       "\t<li>TRUE</li>\n",
       "\t<li>TRUE</li>\n",
       "\t<li>TRUE</li>\n",
       "\t<li>TRUE</li>\n",
       "\t<li>TRUE</li>\n",
       "\t<li>TRUE</li>\n",
       "\t<li>TRUE</li>\n",
       "\t<li>FALSE</li>\n",
       "\t<li>FALSE</li>\n",
       "\t<li>FALSE</li>\n",
       "\t<li>FALSE</li>\n",
       "\t<li>FALSE</li>\n",
       "\t<li>FALSE</li>\n",
       "\t<li>FALSE</li>\n",
       "\t<li>FALSE</li>\n",
       "\t<li>FALSE</li>\n",
       "\t<li>FALSE</li>\n",
       "</ol>\n"
      ],
      "text/latex": [
       "\\begin{enumerate*}\n",
       "\\item TRUE\n",
       "\\item TRUE\n",
       "\\item TRUE\n",
       "\\item TRUE\n",
       "\\item TRUE\n",
       "\\item TRUE\n",
       "\\item TRUE\n",
       "\\item TRUE\n",
       "\\item TRUE\n",
       "\\item TRUE\n",
       "\\item FALSE\n",
       "\\item FALSE\n",
       "\\item FALSE\n",
       "\\item FALSE\n",
       "\\item FALSE\n",
       "\\item FALSE\n",
       "\\item FALSE\n",
       "\\item FALSE\n",
       "\\item FALSE\n",
       "\\item FALSE\n",
       "\\end{enumerate*}\n"
      ],
      "text/markdown": [
       "1. TRUE\n",
       "2. TRUE\n",
       "3. TRUE\n",
       "4. TRUE\n",
       "5. TRUE\n",
       "6. TRUE\n",
       "7. TRUE\n",
       "8. TRUE\n",
       "9. TRUE\n",
       "10. TRUE\n",
       "11. FALSE\n",
       "12. FALSE\n",
       "13. FALSE\n",
       "14. FALSE\n",
       "15. FALSE\n",
       "16. FALSE\n",
       "17. FALSE\n",
       "18. FALSE\n",
       "19. FALSE\n",
       "20. FALSE\n",
       "\n",
       "\n"
      ],
      "text/plain": [
       " [1]  TRUE  TRUE  TRUE  TRUE  TRUE  TRUE  TRUE  TRUE  TRUE  TRUE FALSE FALSE\n",
       "[13] FALSE FALSE FALSE FALSE FALSE FALSE FALSE FALSE"
      ]
     },
     "metadata": {},
     "output_type": "display_data"
    }
   ],
   "source": [
    "avg_results$alg==\"t1\""
   ]
  },
  {
   "cell_type": "code",
   "execution_count": 46,
   "metadata": {},
   "outputs": [
    {
     "data": {
      "text/html": [
       "<table>\n",
       "<thead><tr><th scope=col>n</th><th scope=col>alg</th><th scope=col>time</th><th scope=col>speed</th></tr></thead>\n",
       "<tbody>\n",
       "\t<tr><td> 1       </td><td>t1       </td><td>0.9990494</td><td>1.0028054</td></tr>\n",
       "\t<tr><td> 2       </td><td>t1       </td><td>2.0152520</td><td>0.9928574</td></tr>\n",
       "\t<tr><td> 3       </td><td>t1       </td><td>2.9867132</td><td>1.0049406</td></tr>\n",
       "\t<tr><td> 4       </td><td>t1       </td><td>3.9869472</td><td>1.0036074</td></tr>\n",
       "\t<tr><td> 5       </td><td>t1       </td><td>4.9716765</td><td>1.0058149</td></tr>\n",
       "\t<tr><td> 6       </td><td>t1       </td><td>6.0127196</td><td>0.9979343</td></tr>\n",
       "\t<tr><td> 7       </td><td>t1       </td><td>6.9400184</td><td>1.0086470</td></tr>\n",
       "\t<tr><td> 8       </td><td>t1       </td><td>8.0313431</td><td>0.9961325</td></tr>\n",
       "\t<tr><td> 9       </td><td>t1       </td><td>8.9836556</td><td>1.0018430</td></tr>\n",
       "\t<tr><td>10       </td><td>t1       </td><td>9.9948604</td><td>1.0005453</td></tr>\n",
       "</tbody>\n",
       "</table>\n"
      ],
      "text/latex": [
       "\\begin{tabular}{r|llll}\n",
       " n & alg & time & speed\\\\\n",
       "\\hline\n",
       "\t  1        & t1        & 0.9990494 & 1.0028054\\\\\n",
       "\t  2        & t1        & 2.0152520 & 0.9928574\\\\\n",
       "\t  3        & t1        & 2.9867132 & 1.0049406\\\\\n",
       "\t  4        & t1        & 3.9869472 & 1.0036074\\\\\n",
       "\t  5        & t1        & 4.9716765 & 1.0058149\\\\\n",
       "\t  6        & t1        & 6.0127196 & 0.9979343\\\\\n",
       "\t  7        & t1        & 6.9400184 & 1.0086470\\\\\n",
       "\t  8        & t1        & 8.0313431 & 0.9961325\\\\\n",
       "\t  9        & t1        & 8.9836556 & 1.0018430\\\\\n",
       "\t 10        & t1        & 9.9948604 & 1.0005453\\\\\n",
       "\\end{tabular}\n"
      ],
      "text/markdown": [
       "\n",
       "| n | alg | time | speed |\n",
       "|---|---|---|---|\n",
       "|  1        | t1        | 0.9990494 | 1.0028054 |\n",
       "|  2        | t1        | 2.0152520 | 0.9928574 |\n",
       "|  3        | t1        | 2.9867132 | 1.0049406 |\n",
       "|  4        | t1        | 3.9869472 | 1.0036074 |\n",
       "|  5        | t1        | 4.9716765 | 1.0058149 |\n",
       "|  6        | t1        | 6.0127196 | 0.9979343 |\n",
       "|  7        | t1        | 6.9400184 | 1.0086470 |\n",
       "|  8        | t1        | 8.0313431 | 0.9961325 |\n",
       "|  9        | t1        | 8.9836556 | 1.0018430 |\n",
       "| 10        | t1        | 9.9948604 | 1.0005453 |\n",
       "\n"
      ],
      "text/plain": [
       "   n  alg time      speed    \n",
       "1   1 t1  0.9990494 1.0028054\n",
       "2   2 t1  2.0152520 0.9928574\n",
       "3   3 t1  2.9867132 1.0049406\n",
       "4   4 t1  3.9869472 1.0036074\n",
       "5   5 t1  4.9716765 1.0058149\n",
       "6   6 t1  6.0127196 0.9979343\n",
       "7   7 t1  6.9400184 1.0086470\n",
       "8   8 t1  8.0313431 0.9961325\n",
       "9   9 t1  8.9836556 1.0018430\n",
       "10 10 t1  9.9948604 1.0005453"
      ]
     },
     "metadata": {},
     "output_type": "display_data"
    }
   ],
   "source": [
    "avg_results[avg_results$alg==\"t1\",]"
   ]
  },
  {
   "cell_type": "markdown",
   "metadata": {},
   "source": [
    "Rysowanie wykresów.\n",
    "\n",
    "Wykres time w funkcji n:"
   ]
  },
  {
   "cell_type": "code",
   "execution_count": 47,
   "metadata": {},
   "outputs": [
    {
     "data": {
      "image/png": "[encoded data removed]",
      "text/plain": [
       "plot without title"
      ]
     },
     "metadata": {},
     "output_type": "display_data"
    }
   ],
   "source": [
    "ggplot(avg_results, aes(n,time)) + geom_point()"
   ]
  },
  {
   "cell_type": "markdown",
   "metadata": {},
   "source": [
    "Przykład skryptu rysującego wykres. "
   ]
  },
  {
   "cell_type": "code",
   "execution_count": 48,
   "metadata": {},
   "outputs": [
    {
     "data": {
      "image/png": "[encoded data removed]",
      "text/plain": [
       "plot without title"
      ]
     },
     "metadata": {},
     "output_type": "display_data"
    }
   ],
   "source": [
    "results <- read.csv(\"data2.txt\")\n",
    "results$speed <- results$n / results$time\n",
    "avg_results <- aggregate( cbind(time,speed) ~ n:alg, data=results, FUN=mean) \n",
    "ggplot(avg_results, aes(n,time,color=alg)) + geom_point() + ylab(\"Computing time in seconds\")"
   ]
  },
  {
   "cell_type": "markdown",
   "metadata": {},
   "source": [
    "Możemy też uruchomić kod tworzący wykres z osobnego pliku"
   ]
  },
  {
   "cell_type": "code",
   "execution_count": 49,
   "metadata": {},
   "outputs": [
    {
     "name": "stderr",
     "output_type": "stream",
     "text": [
      "Saving 6.67 x 6.67 in image\n"
     ]
    }
   ],
   "source": [
    "source(\"data2_plot.R\")"
   ]
  },
  {
   "cell_type": "markdown",
   "metadata": {},
   "source": [
    "w bashu za pomoca polecenia:"
   ]
  },
  {
   "cell_type": "markdown",
   "metadata": {},
   "source": [
    "```Rscript data2_plot.R```"
   ]
  },
  {
   "cell_type": "markdown",
   "metadata": {},
   "source": [
    "W wyniku powstaje plik [myplot.png](myplot.png)"
   ]
  },
  {
   "cell_type": "markdown",
   "metadata": {},
   "source": [
    "### Powyższy przykład z wykorzystaniem tidyverse"
   ]
  },
  {
   "cell_type": "code",
   "execution_count": 50,
   "metadata": {
    "scrolled": true
   },
   "outputs": [
    {
     "name": "stderr",
     "output_type": "stream",
     "text": [
      "Parsed with column specification:\n",
      "cols(\n",
      "  n = col_double(),\n",
      "  alg = col_character(),\n",
      "  time = col_double(),\n",
      "  error = col_double()\n",
      ")\n"
     ]
    }
   ],
   "source": [
    "results <- read_csv(\"data2.txt\")"
   ]
  },
  {
   "cell_type": "markdown",
   "metadata": {},
   "source": [
    "Operator `%>%` pozwala przekazywać wyjście z jednej funkcji jako wejście kolejnej, co pozwala na tworzenie łańcucha wywołań funkcji (analogiczne do '|' w bashu)."
   ]
  },
  {
   "cell_type": "code",
   "execution_count": 51,
   "metadata": {},
   "outputs": [],
   "source": [
    "avg_dplyr <- results %>% \n",
    "    mutate(speed = n/time) %>% # tylko aby pokazać mutate, nie wykorzystujemy do plota\n",
    "    group_by(n, alg) %>%\n",
    "    summarise(\n",
    "        time_sd = sd(time),\n",
    "        time = mean(time),\n",
    "        speed = mean(speed)\n",
    "    )  %>% \n",
    "    arrange(alg, n) #sortowanie\n",
    "    \n",
    "    "
   ]
  },
  {
   "cell_type": "code",
   "execution_count": 52,
   "metadata": {},
   "outputs": [
    {
     "data": {
      "text/html": [
       "<table>\n",
       "<thead><tr><th scope=col>n</th><th scope=col>alg</th><th scope=col>time_sd</th><th scope=col>time</th><th scope=col>speed</th></tr></thead>\n",
       "<tbody>\n",
       "\t<tr><td> 1        </td><td>t1        </td><td>0.04902917</td><td> 0.9990494</td><td>1.0028054 </td></tr>\n",
       "\t<tr><td> 2        </td><td>t1        </td><td>0.04664671</td><td> 2.0152520</td><td>0.9928574 </td></tr>\n",
       "\t<tr><td> 3        </td><td>t1        </td><td>0.07417292</td><td> 2.9867132</td><td>1.0049406 </td></tr>\n",
       "\t<tr><td> 4        </td><td>t1        </td><td>0.08150832</td><td> 3.9869472</td><td>1.0036074 </td></tr>\n",
       "\t<tr><td> 5        </td><td>t1        </td><td>0.06018547</td><td> 4.9716765</td><td>1.0058149 </td></tr>\n",
       "\t<tr><td> 6        </td><td>t1        </td><td>0.04730261</td><td> 6.0127196</td><td>0.9979343 </td></tr>\n",
       "\t<tr><td> 7        </td><td>t1        </td><td>0.01562886</td><td> 6.9400184</td><td>1.0086470 </td></tr>\n",
       "\t<tr><td> 8        </td><td>t1        </td><td>0.05328619</td><td> 8.0313431</td><td>0.9961325 </td></tr>\n",
       "\t<tr><td> 9        </td><td>t1        </td><td>0.04886179</td><td> 8.9836556</td><td>1.0018430 </td></tr>\n",
       "\t<tr><td>10        </td><td>t1        </td><td>0.06245583</td><td> 9.9948604</td><td>1.0005453 </td></tr>\n",
       "\t<tr><td> 1        </td><td>t2        </td><td>0.06654991</td><td> 1.9878299</td><td>0.5035135 </td></tr>\n",
       "\t<tr><td> 2        </td><td>t2        </td><td>0.04418932</td><td> 3.9599609</td><td>0.5051054 </td></tr>\n",
       "\t<tr><td> 3        </td><td>t2        </td><td>0.06413231</td><td> 5.9861750</td><td>0.5012006 </td></tr>\n",
       "\t<tr><td> 4        </td><td>t2        </td><td>0.04983246</td><td> 8.0300291</td><td>0.4981456 </td></tr>\n",
       "\t<tr><td> 5        </td><td>t2        </td><td>0.04548820</td><td>10.0251302</td><td>0.4987549 </td></tr>\n",
       "\t<tr><td> 6        </td><td>t2        </td><td>0.05267832</td><td>11.9724193</td><td>0.5011596 </td></tr>\n",
       "\t<tr><td> 7        </td><td>t2        </td><td>0.05988583</td><td>14.0112964</td><td>0.4996042 </td></tr>\n",
       "\t<tr><td> 8        </td><td>t2        </td><td>0.05359947</td><td>16.0212972</td><td>0.4993398 </td></tr>\n",
       "\t<tr><td> 9        </td><td>t2        </td><td>0.05270112</td><td>17.9699109</td><td>0.5008407 </td></tr>\n",
       "\t<tr><td>10        </td><td>t2        </td><td>0.07047764</td><td>19.9883028</td><td>0.5002976 </td></tr>\n",
       "</tbody>\n",
       "</table>\n"
      ],
      "text/latex": [
       "\\begin{tabular}{r|lllll}\n",
       " n & alg & time\\_sd & time & speed\\\\\n",
       "\\hline\n",
       "\t  1         & t1         & 0.04902917 &  0.9990494 & 1.0028054 \\\\\n",
       "\t  2         & t1         & 0.04664671 &  2.0152520 & 0.9928574 \\\\\n",
       "\t  3         & t1         & 0.07417292 &  2.9867132 & 1.0049406 \\\\\n",
       "\t  4         & t1         & 0.08150832 &  3.9869472 & 1.0036074 \\\\\n",
       "\t  5         & t1         & 0.06018547 &  4.9716765 & 1.0058149 \\\\\n",
       "\t  6         & t1         & 0.04730261 &  6.0127196 & 0.9979343 \\\\\n",
       "\t  7         & t1         & 0.01562886 &  6.9400184 & 1.0086470 \\\\\n",
       "\t  8         & t1         & 0.05328619 &  8.0313431 & 0.9961325 \\\\\n",
       "\t  9         & t1         & 0.04886179 &  8.9836556 & 1.0018430 \\\\\n",
       "\t 10         & t1         & 0.06245583 &  9.9948604 & 1.0005453 \\\\\n",
       "\t  1         & t2         & 0.06654991 &  1.9878299 & 0.5035135 \\\\\n",
       "\t  2         & t2         & 0.04418932 &  3.9599609 & 0.5051054 \\\\\n",
       "\t  3         & t2         & 0.06413231 &  5.9861750 & 0.5012006 \\\\\n",
       "\t  4         & t2         & 0.04983246 &  8.0300291 & 0.4981456 \\\\\n",
       "\t  5         & t2         & 0.04548820 & 10.0251302 & 0.4987549 \\\\\n",
       "\t  6         & t2         & 0.05267832 & 11.9724193 & 0.5011596 \\\\\n",
       "\t  7         & t2         & 0.05988583 & 14.0112964 & 0.4996042 \\\\\n",
       "\t  8         & t2         & 0.05359947 & 16.0212972 & 0.4993398 \\\\\n",
       "\t  9         & t2         & 0.05270112 & 17.9699109 & 0.5008407 \\\\\n",
       "\t 10         & t2         & 0.07047764 & 19.9883028 & 0.5002976 \\\\\n",
       "\\end{tabular}\n"
      ],
      "text/markdown": [
       "\n",
       "| n | alg | time_sd | time | speed |\n",
       "|---|---|---|---|---|\n",
       "|  1         | t1         | 0.04902917 |  0.9990494 | 1.0028054  |\n",
       "|  2         | t1         | 0.04664671 |  2.0152520 | 0.9928574  |\n",
       "|  3         | t1         | 0.07417292 |  2.9867132 | 1.0049406  |\n",
       "|  4         | t1         | 0.08150832 |  3.9869472 | 1.0036074  |\n",
       "|  5         | t1         | 0.06018547 |  4.9716765 | 1.0058149  |\n",
       "|  6         | t1         | 0.04730261 |  6.0127196 | 0.9979343  |\n",
       "|  7         | t1         | 0.01562886 |  6.9400184 | 1.0086470  |\n",
       "|  8         | t1         | 0.05328619 |  8.0313431 | 0.9961325  |\n",
       "|  9         | t1         | 0.04886179 |  8.9836556 | 1.0018430  |\n",
       "| 10         | t1         | 0.06245583 |  9.9948604 | 1.0005453  |\n",
       "|  1         | t2         | 0.06654991 |  1.9878299 | 0.5035135  |\n",
       "|  2         | t2         | 0.04418932 |  3.9599609 | 0.5051054  |\n",
       "|  3         | t2         | 0.06413231 |  5.9861750 | 0.5012006  |\n",
       "|  4         | t2         | 0.04983246 |  8.0300291 | 0.4981456  |\n",
       "|  5         | t2         | 0.04548820 | 10.0251302 | 0.4987549  |\n",
       "|  6         | t2         | 0.05267832 | 11.9724193 | 0.5011596  |\n",
       "|  7         | t2         | 0.05988583 | 14.0112964 | 0.4996042  |\n",
       "|  8         | t2         | 0.05359947 | 16.0212972 | 0.4993398  |\n",
       "|  9         | t2         | 0.05270112 | 17.9699109 | 0.5008407  |\n",
       "| 10         | t2         | 0.07047764 | 19.9883028 | 0.5002976  |\n",
       "\n"
      ],
      "text/plain": [
       "   n  alg time_sd    time       speed    \n",
       "1   1 t1  0.04902917  0.9990494 1.0028054\n",
       "2   2 t1  0.04664671  2.0152520 0.9928574\n",
       "3   3 t1  0.07417292  2.9867132 1.0049406\n",
       "4   4 t1  0.08150832  3.9869472 1.0036074\n",
       "5   5 t1  0.06018547  4.9716765 1.0058149\n",
       "6   6 t1  0.04730261  6.0127196 0.9979343\n",
       "7   7 t1  0.01562886  6.9400184 1.0086470\n",
       "8   8 t1  0.05328619  8.0313431 0.9961325\n",
       "9   9 t1  0.04886179  8.9836556 1.0018430\n",
       "10 10 t1  0.06245583  9.9948604 1.0005453\n",
       "11  1 t2  0.06654991  1.9878299 0.5035135\n",
       "12  2 t2  0.04418932  3.9599609 0.5051054\n",
       "13  3 t2  0.06413231  5.9861750 0.5012006\n",
       "14  4 t2  0.04983246  8.0300291 0.4981456\n",
       "15  5 t2  0.04548820 10.0251302 0.4987549\n",
       "16  6 t2  0.05267832 11.9724193 0.5011596\n",
       "17  7 t2  0.05988583 14.0112964 0.4996042\n",
       "18  8 t2  0.05359947 16.0212972 0.4993398\n",
       "19  9 t2  0.05270112 17.9699109 0.5008407\n",
       "20 10 t2  0.07047764 19.9883028 0.5002976"
      ]
     },
     "metadata": {},
     "output_type": "display_data"
    }
   ],
   "source": [
    "avg_dplyr"
   ]
  },
  {
   "cell_type": "markdown",
   "metadata": {},
   "source": [
    "Kolejność operacji w `summarise` ma znaczenie!"
   ]
  },
  {
   "cell_type": "code",
   "execution_count": 53,
   "metadata": {},
   "outputs": [
    {
     "data": {
      "text/html": [
       "<table>\n",
       "<thead><tr><th scope=col>n</th><th scope=col>alg</th><th scope=col>time</th><th scope=col>time_sd</th></tr></thead>\n",
       "<tbody>\n",
       "\t<tr><td> 1        </td><td>t1        </td><td> 0.9990494</td><td>NA        </td></tr>\n",
       "\t<tr><td> 2        </td><td>t1        </td><td> 2.0152520</td><td>NA        </td></tr>\n",
       "\t<tr><td> 3        </td><td>t1        </td><td> 2.9867132</td><td>NA        </td></tr>\n",
       "\t<tr><td> 4        </td><td>t1        </td><td> 3.9869472</td><td>NA        </td></tr>\n",
       "\t<tr><td> 5        </td><td>t1        </td><td> 4.9716765</td><td>NA        </td></tr>\n",
       "\t<tr><td> 6        </td><td>t1        </td><td> 6.0127196</td><td>NA        </td></tr>\n",
       "\t<tr><td> 7        </td><td>t1        </td><td> 6.9400184</td><td>NA        </td></tr>\n",
       "\t<tr><td> 8        </td><td>t1        </td><td> 8.0313431</td><td>NA        </td></tr>\n",
       "\t<tr><td> 9        </td><td>t1        </td><td> 8.9836556</td><td>NA        </td></tr>\n",
       "\t<tr><td>10        </td><td>t1        </td><td> 9.9948604</td><td>NA        </td></tr>\n",
       "\t<tr><td> 1        </td><td>t2        </td><td> 1.9878299</td><td>NA        </td></tr>\n",
       "\t<tr><td> 2        </td><td>t2        </td><td> 3.9599609</td><td>NA        </td></tr>\n",
       "\t<tr><td> 3        </td><td>t2        </td><td> 5.9861750</td><td>NA        </td></tr>\n",
       "\t<tr><td> 4        </td><td>t2        </td><td> 8.0300291</td><td>NA        </td></tr>\n",
       "\t<tr><td> 5        </td><td>t2        </td><td>10.0251302</td><td>NA        </td></tr>\n",
       "\t<tr><td> 6        </td><td>t2        </td><td>11.9724193</td><td>NA        </td></tr>\n",
       "\t<tr><td> 7        </td><td>t2        </td><td>14.0112964</td><td>NA        </td></tr>\n",
       "\t<tr><td> 8        </td><td>t2        </td><td>16.0212972</td><td>NA        </td></tr>\n",
       "\t<tr><td> 9        </td><td>t2        </td><td>17.9699109</td><td>NA        </td></tr>\n",
       "\t<tr><td>10        </td><td>t2        </td><td>19.9883028</td><td>NA        </td></tr>\n",
       "</tbody>\n",
       "</table>\n"
      ],
      "text/latex": [
       "\\begin{tabular}{r|llll}\n",
       " n & alg & time & time\\_sd\\\\\n",
       "\\hline\n",
       "\t  1         & t1         &  0.9990494 & NA        \\\\\n",
       "\t  2         & t1         &  2.0152520 & NA        \\\\\n",
       "\t  3         & t1         &  2.9867132 & NA        \\\\\n",
       "\t  4         & t1         &  3.9869472 & NA        \\\\\n",
       "\t  5         & t1         &  4.9716765 & NA        \\\\\n",
       "\t  6         & t1         &  6.0127196 & NA        \\\\\n",
       "\t  7         & t1         &  6.9400184 & NA        \\\\\n",
       "\t  8         & t1         &  8.0313431 & NA        \\\\\n",
       "\t  9         & t1         &  8.9836556 & NA        \\\\\n",
       "\t 10         & t1         &  9.9948604 & NA        \\\\\n",
       "\t  1         & t2         &  1.9878299 & NA        \\\\\n",
       "\t  2         & t2         &  3.9599609 & NA        \\\\\n",
       "\t  3         & t2         &  5.9861750 & NA        \\\\\n",
       "\t  4         & t2         &  8.0300291 & NA        \\\\\n",
       "\t  5         & t2         & 10.0251302 & NA        \\\\\n",
       "\t  6         & t2         & 11.9724193 & NA        \\\\\n",
       "\t  7         & t2         & 14.0112964 & NA        \\\\\n",
       "\t  8         & t2         & 16.0212972 & NA        \\\\\n",
       "\t  9         & t2         & 17.9699109 & NA        \\\\\n",
       "\t 10         & t2         & 19.9883028 & NA        \\\\\n",
       "\\end{tabular}\n"
      ],
      "text/markdown": [
       "\n",
       "| n | alg | time | time_sd |\n",
       "|---|---|---|---|\n",
       "|  1         | t1         |  0.9990494 | NA         |\n",
       "|  2         | t1         |  2.0152520 | NA         |\n",
       "|  3         | t1         |  2.9867132 | NA         |\n",
       "|  4         | t1         |  3.9869472 | NA         |\n",
       "|  5         | t1         |  4.9716765 | NA         |\n",
       "|  6         | t1         |  6.0127196 | NA         |\n",
       "|  7         | t1         |  6.9400184 | NA         |\n",
       "|  8         | t1         |  8.0313431 | NA         |\n",
       "|  9         | t1         |  8.9836556 | NA         |\n",
       "| 10         | t1         |  9.9948604 | NA         |\n",
       "|  1         | t2         |  1.9878299 | NA         |\n",
       "|  2         | t2         |  3.9599609 | NA         |\n",
       "|  3         | t2         |  5.9861750 | NA         |\n",
       "|  4         | t2         |  8.0300291 | NA         |\n",
       "|  5         | t2         | 10.0251302 | NA         |\n",
       "|  6         | t2         | 11.9724193 | NA         |\n",
       "|  7         | t2         | 14.0112964 | NA         |\n",
       "|  8         | t2         | 16.0212972 | NA         |\n",
       "|  9         | t2         | 17.9699109 | NA         |\n",
       "| 10         | t2         | 19.9883028 | NA         |\n",
       "\n"
      ],
      "text/plain": [
       "   n  alg time       time_sd\n",
       "1   1 t1   0.9990494 NA     \n",
       "2   2 t1   2.0152520 NA     \n",
       "3   3 t1   2.9867132 NA     \n",
       "4   4 t1   3.9869472 NA     \n",
       "5   5 t1   4.9716765 NA     \n",
       "6   6 t1   6.0127196 NA     \n",
       "7   7 t1   6.9400184 NA     \n",
       "8   8 t1   8.0313431 NA     \n",
       "9   9 t1   8.9836556 NA     \n",
       "10 10 t1   9.9948604 NA     \n",
       "11  1 t2   1.9878299 NA     \n",
       "12  2 t2   3.9599609 NA     \n",
       "13  3 t2   5.9861750 NA     \n",
       "14  4 t2   8.0300291 NA     \n",
       "15  5 t2  10.0251302 NA     \n",
       "16  6 t2  11.9724193 NA     \n",
       "17  7 t2  14.0112964 NA     \n",
       "18  8 t2  16.0212972 NA     \n",
       "19  9 t2  17.9699109 NA     \n",
       "20 10 t2  19.9883028 NA     "
      ]
     },
     "metadata": {},
     "output_type": "display_data"
    }
   ],
   "source": [
    "# zamieniona kolejność mean i sd\n",
    "results %>%\n",
    "    group_by(n, alg) %>%\n",
    "    summarise(\n",
    "        time = mean(time),\n",
    "        time_sd = sd(time) # sd jest liczone dla jednego wiersza po agregracji, stad NA w wynikach\n",
    "    )  %>% \n",
    "    arrange(alg, n)"
   ]
  },
  {
   "cell_type": "markdown",
   "metadata": {},
   "source": [
    "Wykres rysowany jak poprzednio"
   ]
  },
  {
   "cell_type": "code",
   "execution_count": 54,
   "metadata": {},
   "outputs": [
    {
     "data": {
      "image/png": "[encoded data removed]",
      "text/plain": [
       "plot without title"
      ]
     },
     "metadata": {},
     "output_type": "display_data"
    }
   ],
   "source": [
    "ggplot(avg_dplyr, aes(n, time, color=alg)) + geom_point() + ylab(\"Computing time in seconds\") + \n",
    "    geom_errorbar(aes(ymin = time-time_sd, ymax = time+time_sd, width=.25))"
   ]
  },
  {
   "cell_type": "markdown",
   "metadata": {},
   "source": [
    "Przykład filtrowania i wybierania kolumn"
   ]
  },
  {
   "cell_type": "code",
   "execution_count": 55,
   "metadata": {},
   "outputs": [
    {
     "data": {
      "text/html": [
       "<table>\n",
       "<thead><tr><th scope=col>n</th><th scope=col>alg</th><th scope=col>time_sd</th><th scope=col>time</th><th scope=col>speed</th></tr></thead>\n",
       "<tbody>\n",
       "\t<tr><td> 1        </td><td>t1        </td><td>0.04902917</td><td>0.9990494 </td><td>1.0028054 </td></tr>\n",
       "\t<tr><td> 2        </td><td>t1        </td><td>0.04664671</td><td>2.0152520 </td><td>0.9928574 </td></tr>\n",
       "\t<tr><td> 3        </td><td>t1        </td><td>0.07417292</td><td>2.9867132 </td><td>1.0049406 </td></tr>\n",
       "\t<tr><td> 4        </td><td>t1        </td><td>0.08150832</td><td>3.9869472 </td><td>1.0036074 </td></tr>\n",
       "\t<tr><td> 5        </td><td>t1        </td><td>0.06018547</td><td>4.9716765 </td><td>1.0058149 </td></tr>\n",
       "\t<tr><td> 6        </td><td>t1        </td><td>0.04730261</td><td>6.0127196 </td><td>0.9979343 </td></tr>\n",
       "\t<tr><td> 7        </td><td>t1        </td><td>0.01562886</td><td>6.9400184 </td><td>1.0086470 </td></tr>\n",
       "\t<tr><td> 8        </td><td>t1        </td><td>0.05328619</td><td>8.0313431 </td><td>0.9961325 </td></tr>\n",
       "\t<tr><td> 9        </td><td>t1        </td><td>0.04886179</td><td>8.9836556 </td><td>1.0018430 </td></tr>\n",
       "\t<tr><td>10        </td><td>t1        </td><td>0.06245583</td><td>9.9948604 </td><td>1.0005453 </td></tr>\n",
       "</tbody>\n",
       "</table>\n"
      ],
      "text/latex": [
       "\\begin{tabular}{r|lllll}\n",
       " n & alg & time\\_sd & time & speed\\\\\n",
       "\\hline\n",
       "\t  1         & t1         & 0.04902917 & 0.9990494  & 1.0028054 \\\\\n",
       "\t  2         & t1         & 0.04664671 & 2.0152520  & 0.9928574 \\\\\n",
       "\t  3         & t1         & 0.07417292 & 2.9867132  & 1.0049406 \\\\\n",
       "\t  4         & t1         & 0.08150832 & 3.9869472  & 1.0036074 \\\\\n",
       "\t  5         & t1         & 0.06018547 & 4.9716765  & 1.0058149 \\\\\n",
       "\t  6         & t1         & 0.04730261 & 6.0127196  & 0.9979343 \\\\\n",
       "\t  7         & t1         & 0.01562886 & 6.9400184  & 1.0086470 \\\\\n",
       "\t  8         & t1         & 0.05328619 & 8.0313431  & 0.9961325 \\\\\n",
       "\t  9         & t1         & 0.04886179 & 8.9836556  & 1.0018430 \\\\\n",
       "\t 10         & t1         & 0.06245583 & 9.9948604  & 1.0005453 \\\\\n",
       "\\end{tabular}\n"
      ],
      "text/markdown": [
       "\n",
       "| n | alg | time_sd | time | speed |\n",
       "|---|---|---|---|---|\n",
       "|  1         | t1         | 0.04902917 | 0.9990494  | 1.0028054  |\n",
       "|  2         | t1         | 0.04664671 | 2.0152520  | 0.9928574  |\n",
       "|  3         | t1         | 0.07417292 | 2.9867132  | 1.0049406  |\n",
       "|  4         | t1         | 0.08150832 | 3.9869472  | 1.0036074  |\n",
       "|  5         | t1         | 0.06018547 | 4.9716765  | 1.0058149  |\n",
       "|  6         | t1         | 0.04730261 | 6.0127196  | 0.9979343  |\n",
       "|  7         | t1         | 0.01562886 | 6.9400184  | 1.0086470  |\n",
       "|  8         | t1         | 0.05328619 | 8.0313431  | 0.9961325  |\n",
       "|  9         | t1         | 0.04886179 | 8.9836556  | 1.0018430  |\n",
       "| 10         | t1         | 0.06245583 | 9.9948604  | 1.0005453  |\n",
       "\n"
      ],
      "text/plain": [
       "   n  alg time_sd    time      speed    \n",
       "1   1 t1  0.04902917 0.9990494 1.0028054\n",
       "2   2 t1  0.04664671 2.0152520 0.9928574\n",
       "3   3 t1  0.07417292 2.9867132 1.0049406\n",
       "4   4 t1  0.08150832 3.9869472 1.0036074\n",
       "5   5 t1  0.06018547 4.9716765 1.0058149\n",
       "6   6 t1  0.04730261 6.0127196 0.9979343\n",
       "7   7 t1  0.01562886 6.9400184 1.0086470\n",
       "8   8 t1  0.05328619 8.0313431 0.9961325\n",
       "9   9 t1  0.04886179 8.9836556 1.0018430\n",
       "10 10 t1  0.06245583 9.9948604 1.0005453"
      ]
     },
     "metadata": {},
     "output_type": "display_data"
    }
   ],
   "source": [
    "# wybieranie wierszy spełniających warunek\n",
    "avg_dplyr %>% filter(alg==\"t1\")"
   ]
  },
  {
   "cell_type": "code",
   "execution_count": 56,
   "metadata": {},
   "outputs": [
    {
     "data": {
      "text/html": [
       "<table>\n",
       "<thead><tr><th scope=col>n</th><th scope=col>alg</th><th scope=col>time_sd</th><th scope=col>time</th><th scope=col>speed</th></tr></thead>\n",
       "<tbody>\n",
       "\t<tr><td> 1        </td><td>t1        </td><td>0.04902917</td><td> 0.9990494</td><td>1.0028054 </td></tr>\n",
       "\t<tr><td> 2        </td><td>t1        </td><td>0.04664671</td><td> 2.0152520</td><td>0.9928574 </td></tr>\n",
       "\t<tr><td> 3        </td><td>t1        </td><td>0.07417292</td><td> 2.9867132</td><td>1.0049406 </td></tr>\n",
       "\t<tr><td> 4        </td><td>t1        </td><td>0.08150832</td><td> 3.9869472</td><td>1.0036074 </td></tr>\n",
       "\t<tr><td> 5        </td><td>t1        </td><td>0.06018547</td><td> 4.9716765</td><td>1.0058149 </td></tr>\n",
       "\t<tr><td> 6        </td><td>t1        </td><td>0.04730261</td><td> 6.0127196</td><td>0.9979343 </td></tr>\n",
       "\t<tr><td> 7        </td><td>t1        </td><td>0.01562886</td><td> 6.9400184</td><td>1.0086470 </td></tr>\n",
       "\t<tr><td> 8        </td><td>t1        </td><td>0.05328619</td><td> 8.0313431</td><td>0.9961325 </td></tr>\n",
       "\t<tr><td> 9        </td><td>t1        </td><td>0.04886179</td><td> 8.9836556</td><td>1.0018430 </td></tr>\n",
       "\t<tr><td>10        </td><td>t1        </td><td>0.06245583</td><td> 9.9948604</td><td>1.0005453 </td></tr>\n",
       "\t<tr><td> 1        </td><td>t2        </td><td>0.06654991</td><td> 1.9878299</td><td>0.5035135 </td></tr>\n",
       "\t<tr><td> 2        </td><td>t2        </td><td>0.04418932</td><td> 3.9599609</td><td>0.5051054 </td></tr>\n",
       "\t<tr><td> 3        </td><td>t2        </td><td>0.06413231</td><td> 5.9861750</td><td>0.5012006 </td></tr>\n",
       "\t<tr><td> 4        </td><td>t2        </td><td>0.04983246</td><td> 8.0300291</td><td>0.4981456 </td></tr>\n",
       "\t<tr><td> 5        </td><td>t2        </td><td>0.04548820</td><td>10.0251302</td><td>0.4987549 </td></tr>\n",
       "\t<tr><td> 6        </td><td>t2        </td><td>0.05267832</td><td>11.9724193</td><td>0.5011596 </td></tr>\n",
       "\t<tr><td> 7        </td><td>t2        </td><td>0.05988583</td><td>14.0112964</td><td>0.4996042 </td></tr>\n",
       "\t<tr><td> 8        </td><td>t2        </td><td>0.05359947</td><td>16.0212972</td><td>0.4993398 </td></tr>\n",
       "\t<tr><td> 9        </td><td>t2        </td><td>0.05270112</td><td>17.9699109</td><td>0.5008407 </td></tr>\n",
       "\t<tr><td>10        </td><td>t2        </td><td>0.07047764</td><td>19.9883028</td><td>0.5002976 </td></tr>\n",
       "</tbody>\n",
       "</table>\n"
      ],
      "text/latex": [
       "\\begin{tabular}{r|lllll}\n",
       " n & alg & time\\_sd & time & speed\\\\\n",
       "\\hline\n",
       "\t  1         & t1         & 0.04902917 &  0.9990494 & 1.0028054 \\\\\n",
       "\t  2         & t1         & 0.04664671 &  2.0152520 & 0.9928574 \\\\\n",
       "\t  3         & t1         & 0.07417292 &  2.9867132 & 1.0049406 \\\\\n",
       "\t  4         & t1         & 0.08150832 &  3.9869472 & 1.0036074 \\\\\n",
       "\t  5         & t1         & 0.06018547 &  4.9716765 & 1.0058149 \\\\\n",
       "\t  6         & t1         & 0.04730261 &  6.0127196 & 0.9979343 \\\\\n",
       "\t  7         & t1         & 0.01562886 &  6.9400184 & 1.0086470 \\\\\n",
       "\t  8         & t1         & 0.05328619 &  8.0313431 & 0.9961325 \\\\\n",
       "\t  9         & t1         & 0.04886179 &  8.9836556 & 1.0018430 \\\\\n",
       "\t 10         & t1         & 0.06245583 &  9.9948604 & 1.0005453 \\\\\n",
       "\t  1         & t2         & 0.06654991 &  1.9878299 & 0.5035135 \\\\\n",
       "\t  2         & t2         & 0.04418932 &  3.9599609 & 0.5051054 \\\\\n",
       "\t  3         & t2         & 0.06413231 &  5.9861750 & 0.5012006 \\\\\n",
       "\t  4         & t2         & 0.04983246 &  8.0300291 & 0.4981456 \\\\\n",
       "\t  5         & t2         & 0.04548820 & 10.0251302 & 0.4987549 \\\\\n",
       "\t  6         & t2         & 0.05267832 & 11.9724193 & 0.5011596 \\\\\n",
       "\t  7         & t2         & 0.05988583 & 14.0112964 & 0.4996042 \\\\\n",
       "\t  8         & t2         & 0.05359947 & 16.0212972 & 0.4993398 \\\\\n",
       "\t  9         & t2         & 0.05270112 & 17.9699109 & 0.5008407 \\\\\n",
       "\t 10         & t2         & 0.07047764 & 19.9883028 & 0.5002976 \\\\\n",
       "\\end{tabular}\n"
      ],
      "text/markdown": [
       "\n",
       "| n | alg | time_sd | time | speed |\n",
       "|---|---|---|---|---|\n",
       "|  1         | t1         | 0.04902917 |  0.9990494 | 1.0028054  |\n",
       "|  2         | t1         | 0.04664671 |  2.0152520 | 0.9928574  |\n",
       "|  3         | t1         | 0.07417292 |  2.9867132 | 1.0049406  |\n",
       "|  4         | t1         | 0.08150832 |  3.9869472 | 1.0036074  |\n",
       "|  5         | t1         | 0.06018547 |  4.9716765 | 1.0058149  |\n",
       "|  6         | t1         | 0.04730261 |  6.0127196 | 0.9979343  |\n",
       "|  7         | t1         | 0.01562886 |  6.9400184 | 1.0086470  |\n",
       "|  8         | t1         | 0.05328619 |  8.0313431 | 0.9961325  |\n",
       "|  9         | t1         | 0.04886179 |  8.9836556 | 1.0018430  |\n",
       "| 10         | t1         | 0.06245583 |  9.9948604 | 1.0005453  |\n",
       "|  1         | t2         | 0.06654991 |  1.9878299 | 0.5035135  |\n",
       "|  2         | t2         | 0.04418932 |  3.9599609 | 0.5051054  |\n",
       "|  3         | t2         | 0.06413231 |  5.9861750 | 0.5012006  |\n",
       "|  4         | t2         | 0.04983246 |  8.0300291 | 0.4981456  |\n",
       "|  5         | t2         | 0.04548820 | 10.0251302 | 0.4987549  |\n",
       "|  6         | t2         | 0.05267832 | 11.9724193 | 0.5011596  |\n",
       "|  7         | t2         | 0.05988583 | 14.0112964 | 0.4996042  |\n",
       "|  8         | t2         | 0.05359947 | 16.0212972 | 0.4993398  |\n",
       "|  9         | t2         | 0.05270112 | 17.9699109 | 0.5008407  |\n",
       "| 10         | t2         | 0.07047764 | 19.9883028 | 0.5002976  |\n",
       "\n"
      ],
      "text/plain": [
       "   n  alg time_sd    time       speed    \n",
       "1   1 t1  0.04902917  0.9990494 1.0028054\n",
       "2   2 t1  0.04664671  2.0152520 0.9928574\n",
       "3   3 t1  0.07417292  2.9867132 1.0049406\n",
       "4   4 t1  0.08150832  3.9869472 1.0036074\n",
       "5   5 t1  0.06018547  4.9716765 1.0058149\n",
       "6   6 t1  0.04730261  6.0127196 0.9979343\n",
       "7   7 t1  0.01562886  6.9400184 1.0086470\n",
       "8   8 t1  0.05328619  8.0313431 0.9961325\n",
       "9   9 t1  0.04886179  8.9836556 1.0018430\n",
       "10 10 t1  0.06245583  9.9948604 1.0005453\n",
       "11  1 t2  0.06654991  1.9878299 0.5035135\n",
       "12  2 t2  0.04418932  3.9599609 0.5051054\n",
       "13  3 t2  0.06413231  5.9861750 0.5012006\n",
       "14  4 t2  0.04983246  8.0300291 0.4981456\n",
       "15  5 t2  0.04548820 10.0251302 0.4987549\n",
       "16  6 t2  0.05267832 11.9724193 0.5011596\n",
       "17  7 t2  0.05988583 14.0112964 0.4996042\n",
       "18  8 t2  0.05359947 16.0212972 0.4993398\n",
       "19  9 t2  0.05270112 17.9699109 0.5008407\n",
       "20 10 t2  0.07047764 19.9883028 0.5002976"
      ]
     },
     "metadata": {},
     "output_type": "display_data"
    }
   ],
   "source": [
    "avg_dplyr"
   ]
  },
  {
   "cell_type": "code",
   "execution_count": 57,
   "metadata": {},
   "outputs": [
    {
     "data": {
      "text/html": [
       "<table>\n",
       "<thead><tr><th scope=col>time</th><th scope=col>speed</th></tr></thead>\n",
       "<tbody>\n",
       "\t<tr><td>0.9990494</td><td>1.0028054</td></tr>\n",
       "\t<tr><td>2.0152520</td><td>0.9928574</td></tr>\n",
       "\t<tr><td>2.9867132</td><td>1.0049406</td></tr>\n",
       "\t<tr><td>3.9869472</td><td>1.0036074</td></tr>\n",
       "\t<tr><td>4.9716765</td><td>1.0058149</td></tr>\n",
       "\t<tr><td>6.0127196</td><td>0.9979343</td></tr>\n",
       "</tbody>\n",
       "</table>\n"
      ],
      "text/latex": [
       "\\begin{tabular}{r|ll}\n",
       " time & speed\\\\\n",
       "\\hline\n",
       "\t 0.9990494 & 1.0028054\\\\\n",
       "\t 2.0152520 & 0.9928574\\\\\n",
       "\t 2.9867132 & 1.0049406\\\\\n",
       "\t 3.9869472 & 1.0036074\\\\\n",
       "\t 4.9716765 & 1.0058149\\\\\n",
       "\t 6.0127196 & 0.9979343\\\\\n",
       "\\end{tabular}\n"
      ],
      "text/markdown": [
       "\n",
       "| time | speed |\n",
       "|---|---|\n",
       "| 0.9990494 | 1.0028054 |\n",
       "| 2.0152520 | 0.9928574 |\n",
       "| 2.9867132 | 1.0049406 |\n",
       "| 3.9869472 | 1.0036074 |\n",
       "| 4.9716765 | 1.0058149 |\n",
       "| 6.0127196 | 0.9979343 |\n",
       "\n"
      ],
      "text/plain": [
       "  time      speed    \n",
       "1 0.9990494 1.0028054\n",
       "2 2.0152520 0.9928574\n",
       "3 2.9867132 1.0049406\n",
       "4 3.9869472 1.0036074\n",
       "5 4.9716765 1.0058149\n",
       "6 6.0127196 0.9979343"
      ]
     },
     "metadata": {},
     "output_type": "display_data"
    }
   ],
   "source": [
    "# wybór kolumn\n",
    "avg_dplyr %>% ungroup() %>% select(time, speed) %>% head()"
   ]
  },
  {
   "cell_type": "code",
   "execution_count": 58,
   "metadata": {},
   "outputs": [
    {
     "data": {
      "text/html": [
       "<table>\n",
       "<thead><tr><th scope=col>n</th><th scope=col>time_sd</th><th scope=col>time</th><th scope=col>speed</th></tr></thead>\n",
       "<tbody>\n",
       "\t<tr><td>1         </td><td>0.04902917</td><td>0.9990494 </td><td>1.0028054 </td></tr>\n",
       "\t<tr><td>2         </td><td>0.04664671</td><td>2.0152520 </td><td>0.9928574 </td></tr>\n",
       "\t<tr><td>3         </td><td>0.07417292</td><td>2.9867132 </td><td>1.0049406 </td></tr>\n",
       "\t<tr><td>4         </td><td>0.08150832</td><td>3.9869472 </td><td>1.0036074 </td></tr>\n",
       "\t<tr><td>5         </td><td>0.06018547</td><td>4.9716765 </td><td>1.0058149 </td></tr>\n",
       "\t<tr><td>6         </td><td>0.04730261</td><td>6.0127196 </td><td>0.9979343 </td></tr>\n",
       "</tbody>\n",
       "</table>\n"
      ],
      "text/latex": [
       "\\begin{tabular}{r|llll}\n",
       " n & time\\_sd & time & speed\\\\\n",
       "\\hline\n",
       "\t 1          & 0.04902917 & 0.9990494  & 1.0028054 \\\\\n",
       "\t 2          & 0.04664671 & 2.0152520  & 0.9928574 \\\\\n",
       "\t 3          & 0.07417292 & 2.9867132  & 1.0049406 \\\\\n",
       "\t 4          & 0.08150832 & 3.9869472  & 1.0036074 \\\\\n",
       "\t 5          & 0.06018547 & 4.9716765  & 1.0058149 \\\\\n",
       "\t 6          & 0.04730261 & 6.0127196  & 0.9979343 \\\\\n",
       "\\end{tabular}\n"
      ],
      "text/markdown": [
       "\n",
       "| n | time_sd | time | speed |\n",
       "|---|---|---|---|\n",
       "| 1          | 0.04902917 | 0.9990494  | 1.0028054  |\n",
       "| 2          | 0.04664671 | 2.0152520  | 0.9928574  |\n",
       "| 3          | 0.07417292 | 2.9867132  | 1.0049406  |\n",
       "| 4          | 0.08150832 | 3.9869472  | 1.0036074  |\n",
       "| 5          | 0.06018547 | 4.9716765  | 1.0058149  |\n",
       "| 6          | 0.04730261 | 6.0127196  | 0.9979343  |\n",
       "\n"
      ],
      "text/plain": [
       "  n time_sd    time      speed    \n",
       "1 1 0.04902917 0.9990494 1.0028054\n",
       "2 2 0.04664671 2.0152520 0.9928574\n",
       "3 3 0.07417292 2.9867132 1.0049406\n",
       "4 4 0.08150832 3.9869472 1.0036074\n",
       "5 5 0.06018547 4.9716765 1.0058149\n",
       "6 6 0.04730261 6.0127196 0.9979343"
      ]
     },
     "metadata": {},
     "output_type": "display_data"
    }
   ],
   "source": [
    "# usuwanie kolumn\n",
    "avg_dplyr %>% select(-alg) %>% head()"
   ]
  },
  {
   "cell_type": "markdown",
   "metadata": {},
   "source": [
    "## Zadanie"
   ]
  },
  {
   "cell_type": "markdown",
   "metadata": {},
   "source": [
    "Za pomocą języka R przeanalizować dowolne dane z poprzednich laboratoriów. Elementy obowiązkowe:\n",
    "\n",
    "1. W jednej tabeli języka R należy umieścić wyniki dwóch różnych eksperymentów (t.j. czas działania dwóch różnych funkcji) dla różnych parametrów (t.j. rozmiarów wektora(macierzy)). Tabela powinna zawierać dane z 10-krotnego uruchomienia tego samego eksperymentu dla tych samych parametrów (dla każdego takiego zestawu)  **(1p.)**\n",
    "2. Należy przedstawić wykresy średnich czasów obliczenia wybranych funkcji w zależności od rozmiaru wektora (macierzy) **(1p.)**\n",
    "3. Wykresy powinny zawierać informację o odchyleniu standardowym dla uzyskanych wyników (słupki błędów)  **(1p.)**"
   ]
  },
  {
   "cell_type": "code",
   "execution_count": null,
   "metadata": {},
   "outputs": [],
   "source": []
  }
 ],
 "metadata": {
  "kernelspec": {
   "display_name": "R",
   "language": "R",
   "name": "ir"
  },
  "language_info": {
   "codemirror_mode": "r",
   "file_extension": ".r",
   "mimetype": "text/x-r-source",
   "name": "python",
   "pygments_lexer": "r",
   "version": "3.9.13"
  }
 },
 "nbformat": 4,
 "nbformat_minor": 4
}
